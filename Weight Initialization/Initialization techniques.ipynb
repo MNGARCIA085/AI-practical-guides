{
 "cells": [
  {
   "cell_type": "markdown",
   "id": "e158470e",
   "metadata": {},
   "source": [
    "# <font color='#1a5276'> <b> <center> Initialization techniques </center> </b> </font>"
   ]
  },
  {
   "cell_type": "markdown",
   "id": "a6c14dfd",
   "metadata": {},
   "source": [
    "## <font color='blue'>  Table of Contents </font>\n",
    "\n",
    "1. [Introduction](#1)\n",
    "2. [Setup](#2)\n",
    "3. [Helper Functions](#3)\n",
    "4. [Data](#4)\n",
    "5. [Model and training function](#5)\n",
    "6. [Testing different initialization techniques](#6) <br>\n",
    "    6.1. [Default initialization](#6.1) <br>\n",
    "    6.2. [Xavier initialization](#6.2) <br>\n",
    "    6.3. [He initialization](#6.3) <br>\n",
    "    6.4. [Comparing results](#6.4) <br>\n",
    "7. [Annex](#annex) <br>\n",
    "    A. [Code clarifications](#A) <br>\n",
    "    B. [Initialization techniques in PyTorch](#B) <br>\n",
    "8. [References](#references)"
   ]
  },
  {
   "cell_type": "markdown",
   "id": "6d0b0495",
   "metadata": {},
   "source": [
    "<a name=\"1\"></a>\n",
    "## <font color='blue'> <b> 1. Introduction </b> </font>\n",
    "\n",
    "In deep learning, the choice of weight initialization can significantly impact the performance and convergence of neural networks. Proper initialization helps prevent issues like vanishing or exploding gradients, leading to faster training and improved results.\n",
    "\n",
    "This notebook explores different weight initialization techniques, including Xavier and He initialization, demonstrating how they affect the performance of neural networks. By the end, you'll see how selecting the right initialization can improve training stability and model accuracy.\n",
    "\n",
    "We will explore the following techniques for initialization:\n",
    "\n",
    "- Default initialization (Kaiming Uniform for linear layers)\n",
    "\n",
    "- Xavier Initialization\n",
    "\n",
    "- He initialization"
   ]
  },
  {
   "cell_type": "markdown",
   "id": "7684a012",
   "metadata": {},
   "source": [
    "<a name=\"2\"></a>\n",
    "## <font color='blue'> <b> 2. Setup </b> </font>"
   ]
  },
  {
   "cell_type": "code",
   "execution_count": 1,
   "id": "472d113e",
   "metadata": {},
   "outputs": [],
   "source": [
    "import os\n",
    "os.environ['KMP_DUPLICATE_LIB_OK']='True'"
   ]
  },
  {
   "cell_type": "code",
   "execution_count": 2,
   "id": "90bef80b",
   "metadata": {},
   "outputs": [],
   "source": [
    "import torch \n",
    "import torch.nn as nn\n",
    "import torchvision.transforms as transforms\n",
    "import torchvision.datasets as dsets\n",
    "import matplotlib.pylab as plt\n",
    "import numpy as np"
   ]
  },
  {
   "cell_type": "code",
   "execution_count": 94,
   "id": "beea7fc0",
   "metadata": {},
   "outputs": [],
   "source": [
    "torch.set_printoptions(\n",
    "    precision=3,      # Set the number of decimal places to print\n",
    ")"
   ]
  },
  {
   "cell_type": "code",
   "execution_count": 3,
   "id": "a55cb3d1",
   "metadata": {},
   "outputs": [
    {
     "data": {
      "text/plain": [
       "<torch._C.Generator at 0x7750dd3e5250>"
      ]
     },
     "execution_count": 3,
     "metadata": {},
     "output_type": "execute_result"
    }
   ],
   "source": [
    "torch.manual_seed(0)"
   ]
  },
  {
   "cell_type": "markdown",
   "id": "c8d16db0",
   "metadata": {},
   "source": [
    "<a name=\"3\"></a>\n",
    "## <font color='blue'> <b> 3. Helper Functions </b> </font>"
   ]
  },
  {
   "cell_type": "code",
   "execution_count": 48,
   "id": "46c5d803",
   "metadata": {},
   "outputs": [],
   "source": [
    "# plot metrics\n",
    "def plot_training_metrics(metrics, metric_name, title, xlabel, ylabel):\n",
    "    \"\"\"\n",
    "    Plot training metrics for multiple configurations with custom colors and bold formatting.\n",
    "\n",
    "    Parameters:\n",
    "    - metrics (dict): A dictionary where keys are labels (e.g., 'Xavier', 'Default', 'He') \n",
    "      and values are lists of metric values (e.g., training loss over iterations).\n",
    "    - metric_name (str): The name of the metric being plotted (e.g., 'training_loss').\n",
    "    - title (str): The title of the plot.\n",
    "    - xlabel (str): The label for the x-axis.\n",
    "    - ylabel (str): The label for the y-axis.\n",
    "    \"\"\"\n",
    "    # Plot each set of values with its label\n",
    "    for label, values in metrics.items():\n",
    "        plt.plot(values, label=label)  \n",
    "    \n",
    "    # Customize axes and title with colors and bold formatting\n",
    "    plt.xlabel(xlabel, fontsize=12, fontweight='bold', color='purple')  # X-axis label\n",
    "    plt.ylabel(ylabel, fontsize=12, fontweight='bold', color='purple')  # Y-axis label\n",
    "    plt.title(title, fontsize=14, fontweight='bold', color='darkred')  # Title\n",
    "    \n",
    "    # Add legend and show the plot\n",
    "    plt.legend()\n",
    "    plt.show()\n"
   ]
  },
  {
   "cell_type": "markdown",
   "id": "5ebb6176",
   "metadata": {},
   "source": [
    "<a name=\"4\"></a>\n",
    "## <font color='blue'> <b> 4. Data </b> </font>\n",
    "\n",
    "We will use the MNIST dataset."
   ]
  },
  {
   "cell_type": "code",
   "execution_count": 5,
   "id": "d7f543bd",
   "metadata": {},
   "outputs": [],
   "source": [
    "# Create the train dataset\n",
    "train_dataset = dsets.MNIST(root='data/', train=True, download=True, transform=transforms.ToTensor())"
   ]
  },
  {
   "cell_type": "code",
   "execution_count": 6,
   "id": "18f7ff33",
   "metadata": {},
   "outputs": [],
   "source": [
    "# Create the validation dataset\n",
    "validation_dataset = dsets.MNIST(root='data/', train=False, download=True, transform=transforms.ToTensor())"
   ]
  },
  {
   "cell_type": "code",
   "execution_count": 7,
   "id": "c644d8ed",
   "metadata": {},
   "outputs": [],
   "source": [
    "# Create Dataloader for both train dataset and validation dataset\n",
    "train_loader = torch.utils.data.DataLoader(dataset=train_dataset, batch_size=2000, shuffle=True)\n",
    "validation_loader = torch.utils.data.DataLoader(dataset=validation_dataset, batch_size=5000, shuffle=False)"
   ]
  },
  {
   "cell_type": "markdown",
   "id": "a803e787",
   "metadata": {},
   "source": [
    "<a name=\"5\"></a>\n",
    "## <font color='blue'> <b> 5. Model and training function </b> </font>"
   ]
  },
  {
   "cell_type": "code",
   "execution_count": 16,
   "id": "a849485f",
   "metadata": {},
   "outputs": [],
   "source": [
    "input_dim = 28 * 28 # 28x28 greyscale images\n",
    "output_dim = 10 # 10 classes\n",
    "layers = [input_dim, 100, 10, 100, 10, 100, output_dim]\n",
    "epochs = 15\n",
    "learning_rate = 0.01"
   ]
  },
  {
   "cell_type": "markdown",
   "id": "3c0ac5f7",
   "metadata": {},
   "source": [
    "### Model definition"
   ]
  },
  {
   "cell_type": "code",
   "execution_count": 12,
   "id": "5d679249",
   "metadata": {},
   "outputs": [],
   "source": [
    "class Net(nn.Module):\n",
    "    # Constructor\n",
    "    def __init__(self, Layers, init_method=None):\n",
    "        \"\"\"\n",
    "        Parameters:\n",
    "        - Layers: list of integers defining the layer sizes.\n",
    "        - init_method: a callable function for weight initialization (e.g., torch.nn.init.xavier_uniform_).\n",
    "                       If None, uses PyTorch's default initialization.\n",
    "        \"\"\"\n",
    "        super(Net, self).__init__()\n",
    "        self.hidden = nn.ModuleList()\n",
    "\n",
    "        for input_size, output_size in zip(Layers, Layers[1:]):\n",
    "            linear = nn.Linear(input_size, output_size)\n",
    "            \n",
    "            # Apply the custom initialization method if provided\n",
    "            if init_method is not None:\n",
    "                init_method(linear.weight)\n",
    "            \n",
    "            self.hidden.append(linear)\n",
    "    \n",
    "    # Prediction\n",
    "    def forward(self, x):\n",
    "        L = len(self.hidden)\n",
    "        for (l, linear_transform) in zip(range(L), self.hidden):\n",
    "            if l < L - 1:\n",
    "                x = torch.tanh(linear_transform(x))\n",
    "            else:\n",
    "                x = linear_transform(x)\n",
    "        return x\n"
   ]
  },
  {
   "cell_type": "markdown",
   "id": "22874231",
   "metadata": {},
   "source": [
    "### Training loop"
   ]
  },
  {
   "cell_type": "code",
   "execution_count": 20,
   "id": "daed8ee4",
   "metadata": {},
   "outputs": [],
   "source": [
    "def train(model, criterion, train_loader, validation_loader, optimizer, input_size=input_size, epochs=100):\n",
    "    \"\"\"\n",
    "    Train a given model on a dataset and validate it periodically.\n",
    "\n",
    "    Parameters:\n",
    "    - model: The neural network model to be trained.\n",
    "    - criterion: The loss function used for optimization.\n",
    "    - train_loader: DataLoader for the training dataset, providing batches of data.\n",
    "    - validation_loader: DataLoader for the validation dataset.\n",
    "    - optimizer: The optimizer used to update the model's weights.\n",
    "    - input_size: input size of the image (28*28 for mnist)\n",
    "    - epochs (int): Number of epochs (iterations over the entire dataset).\n",
    "\n",
    "    Returns:\n",
    "    - loss_accuracy (dict): A dictionary containing:\n",
    "        - 'training_loss': A list of training loss values for each batch.\n",
    "        - 'validation_loss': A list of validation loss values at the end of each epoch.\n",
    "        - 'training_accuracy': A list of training accuracy values at the end of each epoch.\n",
    "        - 'validation_accuracy': A list of validation accuracy values at the end of each epoch.\n",
    "    \"\"\"\n",
    "    \n",
    "    loss_accuracy = {\n",
    "        'training_loss': [],\n",
    "        'validation_loss': [],\n",
    "        'training_accuracy': [],\n",
    "        'validation_accuracy': []\n",
    "    }\n",
    "\n",
    "    for epoch in range(epochs):  # Loop over each epoch\n",
    "        # Track training metrics\n",
    "        correct_train = 0\n",
    "        total_train = 0\n",
    "\n",
    "        # i: index of the batch, x: image, y:label\n",
    "        for i, (x, y) in enumerate(train_loader):  # Loop over training batches\n",
    "            optimizer.zero_grad()  # Reset gradients for the optimizer\n",
    "            z = model(x.view(-1, input_size))  # Flatten input and forward pass through the model\n",
    "            loss = criterion(z, y)  # Compute the loss\n",
    "            loss.backward()  # Backpropagate the gradients\n",
    "            optimizer.step()  # Update model weights using the optimizer\n",
    "\n",
    "            loss_accuracy['training_loss'].append(loss.data.item())  # Record the loss value\n",
    "\n",
    "            # Calculate training accuracy\n",
    "            _, label = torch.max(z, 1)  # Get predicted labels\n",
    "            correct_train += (label == y).sum().item()  # Count correct predictions\n",
    "            total_train += y.size(0)  # Total number of samples in the batch\n",
    "\n",
    "        training_accuracy = 100 * (correct_train / total_train)  # Calculate training accuracy\n",
    "        loss_accuracy['training_accuracy'].append(training_accuracy)  # Record training accuracy\n",
    "\n",
    "        # Track validation metrics\n",
    "        correct_val = 0\n",
    "        total_val = 0\n",
    "        val_loss = 0.0\n",
    "\n",
    "        for x, y in validation_loader:  # Loop over validation batches\n",
    "            yhat = model(x.view(-1, input_size))  # Flatten input and forward pass through the model\n",
    "            loss = criterion(yhat, y)  # Compute validation loss\n",
    "            val_loss += loss.item()  # Sum validation loss\n",
    "\n",
    "            _, label = torch.max(yhat, 1)  # Get the predicted class label\n",
    "            correct_val += (label == y).sum().item()  # Count correct predictions\n",
    "            total_val += y.size(0)  # Total number of samples in the batch\n",
    "\n",
    "        validation_accuracy = 100 * (correct_val / total_val)  # Calculate validation accuracy\n",
    "        val_loss /= len(validation_loader)  # Average validation loss\n",
    "\n",
    "        loss_accuracy['validation_accuracy'].append(validation_accuracy)  # Record validation accuracy\n",
    "        loss_accuracy['validation_loss'].append(val_loss)  # Record validation loss\n",
    "\n",
    "    return loss_accuracy  # Return the dictionary with all metrics\n"
   ]
  },
  {
   "cell_type": "markdown",
   "id": "2958961c",
   "metadata": {},
   "source": [
    "### Criterion"
   ]
  },
  {
   "cell_type": "code",
   "execution_count": 21,
   "id": "a36a4c10",
   "metadata": {},
   "outputs": [],
   "source": [
    "# Define criterion function\n",
    "criterion = nn.CrossEntropyLoss()"
   ]
  },
  {
   "cell_type": "markdown",
   "id": "5302fcf9",
   "metadata": {},
   "source": [
    "<a name=\"6\"></a>\n",
    "## <font color='blue'> <b> 6. Testing different initialization techniques </b> </font>\n",
    "\n",
    "<a name=\"6.1\"></a>\n",
    "### <font color='#2874a6'> <b> 6.1. Default initialization </b> </font>"
   ]
  },
  {
   "cell_type": "code",
   "execution_count": 22,
   "id": "53e9922f",
   "metadata": {},
   "outputs": [],
   "source": [
    "model = Net(layers)\n",
    "optimizer = torch.optim.SGD(model.parameters(), lr=learning_rate)\n",
    "training_results_default = train(model, criterion, train_loader, validation_loader, optimizer, epochs=epochs)"
   ]
  },
  {
   "cell_type": "markdown",
   "id": "4795af0b",
   "metadata": {},
   "source": [
    "<a name=\"6.2\"></a>\n",
    "### <font color='#2874a6'> <b> 6.2. Xavier initialization </b> </font>"
   ]
  },
  {
   "cell_type": "code",
   "execution_count": 24,
   "id": "8ed20863",
   "metadata": {},
   "outputs": [],
   "source": [
    "model_Xavier = Net(layers, init_method=torch.nn.init.xavier_uniform_)\n",
    "optimizer_Xavier = torch.optim.SGD(model_Xavier.parameters(), lr=learning_rate)\n",
    "training_results_Xavier = train(model_Xavier, criterion, train_loader, validation_loader, \n",
    "                                optimizer_Xavier, epochs=epochs)"
   ]
  },
  {
   "cell_type": "markdown",
   "id": "658b99fb",
   "metadata": {},
   "source": [
    "<a name=\"6.3\"></a>\n",
    "### <font color='#2874a6'> <b> 6.3. He initialization </b> </font>"
   ]
  },
  {
   "cell_type": "code",
   "execution_count": 25,
   "id": "6ad1dfe6",
   "metadata": {},
   "outputs": [],
   "source": [
    "model_he = Net(layers, init_method = torch.nn.init.kaiming_uniform_)\n",
    "optimizer_he = torch.optim.SGD(model_he.parameters(), lr=learning_rate)\n",
    "training_results_he = train(model_he, criterion, train_loader, validation_loader, optimizer_he, epochs=epochs)"
   ]
  },
  {
   "cell_type": "markdown",
   "id": "8460370e",
   "metadata": {},
   "source": [
    "<a name=\"6.4\"></a>\n",
    "### <font color='#2874a6'> <b> 6.4. Comparing results </b> </font>"
   ]
  },
  {
   "cell_type": "code",
   "execution_count": 49,
   "id": "9ca8bfc5",
   "metadata": {},
   "outputs": [
    {
     "data": {
      "image/png": "[encoded data removed]",
      "text/plain": [
       "<Figure size 640x480 with 1 Axes>"
      ]
     },
     "metadata": {},
     "output_type": "display_data"
    }
   ],
   "source": [
    "# Prepare the metrics dictionary for the training losses\n",
    "metrics = {\n",
    "    'Xavier': training_results_Xavier['training_loss'],\n",
    "    'Default': training_results_default['training_loss'],\n",
    "    'He': training_results_he['training_loss']\n",
    "}\n",
    "\n",
    "# Plot training loss\n",
    "plot_training_metrics(\n",
    "    metrics=metrics,\n",
    "    metric_name='training_loss',\n",
    "    title='Training Loss vs Iterations',\n",
    "    xlabel='Iteration',\n",
    "    ylabel='Loss'\n",
    ")"
   ]
  },
  {
   "cell_type": "code",
   "execution_count": 50,
   "id": "8e4e8e71",
   "metadata": {},
   "outputs": [
    {
     "data": {
      "image/png": "[encoded data removed]",
      "text/plain": [
       "<Figure size 640x480 with 1 Axes>"
      ]
     },
     "metadata": {},
     "output_type": "display_data"
    }
   ],
   "source": [
    "# Prepare the metrics dictionary for the validation accuracy\n",
    "metrics = {\n",
    "    'Xavier': training_results_Xavier['validation_accuracy'],\n",
    "    'Default': training_results_default['validation_accuracy'],\n",
    "    'He': training_results_he['validation_accuracy']\n",
    "}\n",
    "\n",
    "# Plot training loss\n",
    "plot_training_metrics(\n",
    "    metrics=metrics,\n",
    "    metric_name='validation_accuracy',\n",
    "    title='Validation accuracy vs epochs',\n",
    "    xlabel='Epochs',\n",
    "    ylabel='Accuracy'\n",
    ")"
   ]
  },
  {
   "cell_type": "markdown",
   "id": "aa4878d7",
   "metadata": {},
   "source": [
    "We can see that the initialization method has a significant impact on the performance of our model. In this example, we achieve the best results using He initialization."
   ]
  },
  {
   "cell_type": "markdown",
   "id": "07cdafe7",
   "metadata": {},
   "source": [
    "<a name=\"annex\"></a>\n",
    "## <font color='blue'> <b> Annex </b> </font>\n",
    "\n",
    "<a name=\"A\"></a>\n",
    "### <font color='#2874a6'> <b> A. Code clarifications </b> </font>"
   ]
  },
  {
   "cell_type": "markdown",
   "id": "3fd92663",
   "metadata": {},
   "source": [
    "###  Code 1\n",
    "\n",
    "Input and output sizes for a deep net."
   ]
  },
  {
   "cell_type": "code",
   "execution_count": 51,
   "id": "ad2e3d6e",
   "metadata": {},
   "outputs": [
    {
     "name": "stdout",
     "output_type": "stream",
     "text": [
      "Connecting layer of size 64 to layer of size 128\n",
      "Connecting layer of size 128 to layer of size 256\n",
      "Connecting layer of size 256 to layer of size 10\n"
     ]
    }
   ],
   "source": [
    "Layers = [64, 128, 256, 10]\n",
    "\n",
    "for input_size, output_size in zip(Layers, Layers[1:]):\n",
    "    print(f\"Connecting layer of size {input_size} to layer of size {output_size}\")"
   ]
  },
  {
   "cell_type": "markdown",
   "id": "19a58a4a",
   "metadata": {},
   "source": [
    "### Code 2\n",
    "\n",
    "Looping data in a trainloader."
   ]
  },
  {
   "cell_type": "code",
   "execution_count": 61,
   "id": "9bf2fc19",
   "metadata": {},
   "outputs": [],
   "source": [
    "train_loader_example = torch.utils.data.DataLoader(dataset=train_dataset, batch_size=2, shuffle=True)"
   ]
  },
  {
   "cell_type": "code",
   "execution_count": 65,
   "id": "c546d87e",
   "metadata": {},
   "outputs": [
    {
     "name": "stdout",
     "output_type": "stream",
     "text": [
      "Index of the batch: 0\n",
      "Feature: tensor([[[[0., 0., 0.,  ..., 0., 0., 0.],\n",
      "          [0., 0., 0.,  ..., 0., 0., 0.],\n",
      "          [0., 0., 0.,  ..., 0., 0., 0.],\n",
      "          ...,\n",
      "          [0., 0., 0.,  ..., 0., 0., 0.],\n",
      "          [0., 0., 0.,  ..., 0., 0., 0.],\n",
      "          [0., 0., 0.,  ..., 0., 0., 0.]]],\n",
      "\n",
      "\n",
      "        [[[0., 0., 0.,  ..., 0., 0., 0.],\n",
      "          [0., 0., 0.,  ..., 0., 0., 0.],\n",
      "          [0., 0., 0.,  ..., 0., 0., 0.],\n",
      "          ...,\n",
      "          [0., 0., 0.,  ..., 0., 0., 0.],\n",
      "          [0., 0., 0.,  ..., 0., 0., 0.],\n",
      "          [0., 0., 0.,  ..., 0., 0., 0.]]]])\n",
      "Label: tensor([0, 7])\n",
      "\n",
      "Index of the batch: 1\n",
      "Feature: tensor([[[[0., 0., 0.,  ..., 0., 0., 0.],\n",
      "          [0., 0., 0.,  ..., 0., 0., 0.],\n",
      "          [0., 0., 0.,  ..., 0., 0., 0.],\n",
      "          ...,\n",
      "          [0., 0., 0.,  ..., 0., 0., 0.],\n",
      "          [0., 0., 0.,  ..., 0., 0., 0.],\n",
      "          [0., 0., 0.,  ..., 0., 0., 0.]]],\n",
      "\n",
      "\n",
      "        [[[0., 0., 0.,  ..., 0., 0., 0.],\n",
      "          [0., 0., 0.,  ..., 0., 0., 0.],\n",
      "          [0., 0., 0.,  ..., 0., 0., 0.],\n",
      "          ...,\n",
      "          [0., 0., 0.,  ..., 0., 0., 0.],\n",
      "          [0., 0., 0.,  ..., 0., 0., 0.],\n",
      "          [0., 0., 0.,  ..., 0., 0., 0.]]]])\n",
      "Label: tensor([1, 9])\n",
      "\n",
      "Index of the batch: 2\n",
      "Feature: tensor([[[[0., 0., 0.,  ..., 0., 0., 0.],\n",
      "          [0., 0., 0.,  ..., 0., 0., 0.],\n",
      "          [0., 0., 0.,  ..., 0., 0., 0.],\n",
      "          ...,\n",
      "          [0., 0., 0.,  ..., 0., 0., 0.],\n",
      "          [0., 0., 0.,  ..., 0., 0., 0.],\n",
      "          [0., 0., 0.,  ..., 0., 0., 0.]]],\n",
      "\n",
      "\n",
      "        [[[0., 0., 0.,  ..., 0., 0., 0.],\n",
      "          [0., 0., 0.,  ..., 0., 0., 0.],\n",
      "          [0., 0., 0.,  ..., 0., 0., 0.],\n",
      "          ...,\n",
      "          [0., 0., 0.,  ..., 0., 0., 0.],\n",
      "          [0., 0., 0.,  ..., 0., 0., 0.],\n",
      "          [0., 0., 0.,  ..., 0., 0., 0.]]]])\n",
      "Label: tensor([7, 0])\n",
      "\n"
     ]
    }
   ],
   "source": [
    "z = 0\n",
    "for i,(x, y) in enumerate(train_loader_example):\n",
    "    print(f\"Index of the batch: {i}\")\n",
    "    print(f\"Feature: {x}\")\n",
    "    print(f\"Label: {y}\\n\")\n",
    "    if z == 2:\n",
    "        break\n",
    "    z+=1"
   ]
  },
  {
   "cell_type": "markdown",
   "id": "dd9d5076",
   "metadata": {},
   "source": [
    "We print 3 batches, where each batch has a size of 2. Thus, for each one, we have 2 values of x and 2 values of y."
   ]
  },
  {
   "cell_type": "markdown",
   "id": "77b1047d",
   "metadata": {},
   "source": [
    "<a name=\"B\"></a>\n",
    "### <font color='#2874a6'> <b> B. Initialization techniques in PyTorch </b> </font>\n",
    "\n",
    "### Uniform"
   ]
  },
  {
   "cell_type": "code",
   "execution_count": 98,
   "id": "d0a02859",
   "metadata": {},
   "outputs": [
    {
     "name": "stdout",
     "output_type": "stream",
     "text": [
      "Before:\n",
      " tensor([[0.282, 0.926, 0.725, 0.329, 0.797],\n",
      "        [0.420, 0.475, 0.571, 0.996, 0.590],\n",
      "        [0.720, 0.280, 0.579, 0.366, 0.665]])\n",
      "After:\n",
      " tensor([[0.701, 0.330, 0.209, 0.827, 0.116],\n",
      "        [0.030, 0.573, 0.086, 0.994, 0.923],\n",
      "        [0.078, 0.946, 0.835, 0.832, 0.132]])\n"
     ]
    }
   ],
   "source": [
    "w = torch.rand(3, 5)\n",
    "print(f\"Before:\\n {w}\")\n",
    "nn.init.uniform_(w)\n",
    "print(f\"After:\\n {w}\")"
   ]
  },
  {
   "cell_type": "markdown",
   "id": "9157e09d",
   "metadata": {},
   "source": [
    "### Xavier"
   ]
  },
  {
   "cell_type": "code",
   "execution_count": 99,
   "id": "e9e8a40b",
   "metadata": {},
   "outputs": [
    {
     "name": "stdout",
     "output_type": "stream",
     "text": [
      "Before:\n",
      " tensor([[0.890, 0.975, 0.786, 0.070, 0.165],\n",
      "        [0.226, 0.780, 0.868, 0.707, 0.387],\n",
      "        [0.123, 0.980, 0.508, 0.424, 0.154]])\n",
      "After:\n",
      " tensor([[-0.585,  0.061,  0.020, -0.278,  0.619],\n",
      "        [-0.614, -1.072, -0.788,  1.089, -0.293],\n",
      "        [-0.400, -0.392, -0.611,  0.864,  0.861]])\n"
     ]
    }
   ],
   "source": [
    "w = torch.rand(3, 5)\n",
    "print(f\"Before:\\n {w}\")\n",
    "nn.init.xavier_uniform_(w, gain=nn.init.calculate_gain('relu'))\n",
    "print(f\"After:\\n {w}\")"
   ]
  },
  {
   "cell_type": "markdown",
   "id": "9674ba75",
   "metadata": {},
   "source": [
    "### Kaiming Uniform"
   ]
  },
  {
   "cell_type": "code",
   "execution_count": 100,
   "id": "eda0748a",
   "metadata": {},
   "outputs": [
    {
     "name": "stdout",
     "output_type": "stream",
     "text": [
      "Before:\n",
      " tensor([[0.661, 0.850, 0.023, 0.002, 0.548],\n",
      "        [0.802, 0.620, 0.311, 0.010, 0.301],\n",
      "        [0.052, 0.093, 0.880, 0.022, 0.916]])\n",
      "After:\n",
      " tensor([[ 0.142, -0.993,  0.601,  0.691, -0.845],\n",
      "        [ 0.572,  0.982,  0.041,  0.835,  0.510],\n",
      "        [-0.565,  0.090, -0.035,  0.142,  0.599]])\n"
     ]
    }
   ],
   "source": [
    "w = torch.rand(3, 5)\n",
    "print(f\"Before:\\n {w}\")\n",
    "nn.init.kaiming_uniform_(w, mode='fan_in', nonlinearity='relu')\n",
    "print(f\"After:\\n {w}\")"
   ]
  },
  {
   "cell_type": "markdown",
   "id": "063bed96",
   "metadata": {},
   "source": [
    "<a name=\"references\"></a>\n",
    "## <font color='blue'> <b> References </b> </font>\n",
    "\n",
    "[IBM AI Engineering Professional Certificate](https://www.coursera.org/professional-certificates/ai-engineer)\n",
    "\n",
    "[PyTorch documentation](https://pytorch.org/docs/stable/nn.init.html)"
   ]
  }
 ],
 "metadata": {
  "kernelspec": {
   "display_name": "Python 3 (ipykernel)",
   "language": "python",
   "name": "python3"
  },
  "language_info": {
   "codemirror_mode": {
    "name": "ipython",
    "version": 3
   },
   "file_extension": ".py",
   "mimetype": "text/x-python",
   "name": "python",
   "nbconvert_exporter": "python",
   "pygments_lexer": "ipython3",
   "version": "3.10.12"
  }
 },
 "nbformat": 4,
 "nbformat_minor": 5
}
