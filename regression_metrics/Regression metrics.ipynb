{
 "cells": [
  {
   "cell_type": "markdown",
   "id": "592d1d53",
   "metadata": {},
   "source": [
    "# <font color='#1a5276'> <b> <center> REGRESSION METRICS </center> </b> </font>"
   ]
  },
  {
   "cell_type": "markdown",
   "id": "76491b84",
   "metadata": {},
   "source": [
    "## <b> <font color='blue'> Table of Contents </font> </b>\n",
    "\n",
    "1. [Introduction](#1)\n",
    "2. [Setup](#2)\n",
    "3. [Metrics](#3) <br>\n",
    "    3.1. [MAE](#3.1) <br>\n",
    "    3.2. [MSE](#3.2) <br>\n",
    "    3.3. [RMSE](#3.3) <br>\n",
    "    3.4. [MLSE](#3.4) <br>\n",
    "    3.5. [R2](#3.5) <br>\n",
    "    3.6. [MAPE](#3.6) <br>\n",
    "    3.7. [Putting it all together](#3.7) <br>\n",
    "4. [Analyzing the Effect of Outliers on Regression ](#4)"
   ]
  },
  {
   "cell_type": "markdown",
   "id": "4361d5b7",
   "metadata": {},
   "source": [
    "<a name=\"1\"></a>\n",
    "## <font color='blue'> 1. Introduction </font>\n",
    "\n",
    "This notebook demonstrates how to calculate and interpret key regression metrics, including Mean Absolute Error (MAE), Mean Squared Error (MSE), Root Mean Squared Error (RMSE), R² score, and Mean Absolute Percentage Error (MAPE). It provides practical examples to help understand model performance and error analysis.\n",
    "\n",
    "<a name=\"2\"></a>\n",
    "## <font color='blue'> 2. Setup </font>"
   ]
  },
  {
   "cell_type": "code",
   "execution_count": 38,
   "id": "7ea88d76",
   "metadata": {},
   "outputs": [],
   "source": [
    "import numpy as np  \n",
    "import matplotlib.pyplot as plt  \n",
    "import numpy as np\n",
    "from sklearn.metrics import mean_absolute_percentage_error\n",
    "import matplotlib.pyplot as plt\n",
    "from sklearn.linear_model import LinearRegression"
   ]
  },
  {
   "cell_type": "code",
   "execution_count": 52,
   "id": "aac3b90a",
   "metadata": {},
   "outputs": [],
   "source": [
    "np.random.seed(42)"
   ]
  },
  {
   "cell_type": "markdown",
   "id": "7fb9b2d2",
   "metadata": {},
   "source": [
    "<a name=\"3\"></a>\n",
    "## <font color='blue'> 3. Metrics </font>\n",
    "\n",
    "Let's start using very simple data."
   ]
  },
  {
   "cell_type": "code",
   "execution_count": 39,
   "id": "31661df0",
   "metadata": {},
   "outputs": [],
   "source": [
    "# Actual and predicted values\n",
    "y_true = np.array([100, 200, 300, 400, 500])\n",
    "y_pred = np.array([110, 190, 290, 410, 480])"
   ]
  },
  {
   "cell_type": "markdown",
   "id": "8c6ea89d",
   "metadata": {},
   "source": [
    "<a name=\"3.1\"></a>\n",
    "### <font color='#1f618d'> 3.1. MAE </font>\n",
    "\n",
    "$$\n",
    "MAE = \\frac{1}{n} \\sum_{i=1}^{n} | y_i - \\hat{y}_i |\n",
    "$$\n",
    "\n",
    "\n",
    "where:\n",
    "\n",
    "- $n$ is the number of data points.\n",
    "\n",
    "- $y_i$ is the actual value of the $i$-th data point\n",
    "\n",
    "- $\\hat{y}_i$ is the predicted value of the $i$-th data point.\n",
    "\n",
    "- $| \\cdot |$ denotes the absolute value.\n",
    "\n"
   ]
  },
  {
   "cell_type": "code",
   "execution_count": 12,
   "id": "f1a2696f",
   "metadata": {},
   "outputs": [
    {
     "name": "stdout",
     "output_type": "stream",
     "text": [
      "Manual MAE: 12.0\n",
      "Scikit-learn MAE: 12.0\n"
     ]
    }
   ],
   "source": [
    "# scikitlearn's implementation\n",
    "from sklearn.metrics import mean_absolute_error\n",
    "\n",
    "# Manual calculation\n",
    "def manual_mae(y_true, y_pred):\n",
    "    return  np.mean(np.abs(y_true - y_pred))\n",
    "\n",
    "\n",
    "# Manual MAE calculation\n",
    "mae_manual = manual_mae(y_true, y_pred)\n",
    "print(f\"Manual MAE: {mae_manual}\")\n",
    "\n",
    "# MAE using scikit-learn\n",
    "mae_sklearn = mean_absolute_error(y_true, y_pred)\n",
    "print(f\"Scikit-learn MAE: {mae_sklearn}\")\n",
    "\n"
   ]
  },
  {
   "cell_type": "markdown",
   "id": "8c03c415",
   "metadata": {},
   "source": [
    "<a name=\"3.2\"></a>\n",
    "### <font color='#1f618d'> 3.2. MSE </font>\n",
    "\n",
    "$$\n",
    "\\text{MSE} = \\frac{1}{n} \\sum_{i=1}^{n} (y_i - \\hat{y}_i)^2\n",
    "$$\n",
    "\n",
    "where:\n",
    "\n",
    "- $n$ is the number of data points.\n",
    "- $y_i$ is the actual value of the $i$-th data point.\n",
    "- $\\hat{y}_i$ is the predicted value of the $i$-th data point."
   ]
  },
  {
   "cell_type": "code",
   "execution_count": 13,
   "id": "658c2526",
   "metadata": {},
   "outputs": [
    {
     "name": "stdout",
     "output_type": "stream",
     "text": [
      "Manual MSE: 160.0\n",
      "Scikit-learn MSE: 160.0\n"
     ]
    }
   ],
   "source": [
    "# Scikit's LEarn implementation\n",
    "from sklearn.metrics import mean_absolute_error\n",
    "\n",
    "# Manual implementation\n",
    "def manual_mse(y_true, y_pred):\n",
    "    return np.mean((y_true - y_pred) ** 2)\n",
    "    \n",
    "\n",
    "# Manual MSE calculation\n",
    "mse_manual = manual_mse(y_true, y_pred)\n",
    "print(f\"Manual MSE: {mse_manual}\")\n",
    "\n",
    "# MSE using scikit-learn\n",
    "mse_sklearn = mean_squared_error(y_true, y_pred)\n",
    "print(f\"Scikit-learn MSE: {mse_sklearn}\")\n",
    "\n"
   ]
  },
  {
   "cell_type": "markdown",
   "id": "667fc813",
   "metadata": {},
   "source": [
    "<a name=\"3.3\"></a>\n",
    "### <font color='#1f618d'> 3.3. RMSE </font>\n",
    "\n",
    "$$\n",
    "\\text{RMSE} = \\sqrt{\\frac{1}{n} \\sum_{i=1}^{n} (y_i - \\hat{y}_i)^2}\n",
    "$$\n",
    "\n",
    "where:\n",
    "\n",
    "* $n$ is the number of data points.\n",
    "* $y_i$ is the actual value of the $i$-th data point.\n",
    "* $\\hat{y}_i$ is the predicted value of the $i$-th data point."
   ]
  },
  {
   "cell_type": "code",
   "execution_count": 17,
   "id": "01615882",
   "metadata": {},
   "outputs": [
    {
     "name": "stdout",
     "output_type": "stream",
     "text": [
      "Manual RMSE: 12.649110640673518\n",
      "Scikit-learn RMSE: 12.649110640673518\n"
     ]
    }
   ],
   "source": [
    "# Manual implementation\n",
    "def manual_rmse(y_true, y_pred):\n",
    "    return np.sqrt(np.mean((y_true - y_pred) ** 2))\n",
    "    \n",
    "\n",
    "# Manual RMSE calculation\n",
    "rmse_manual = manual_rmse(y_true, y_pred)\n",
    "print(f\"Manual RMSE: {rmse_manual}\")\n",
    "\n",
    "# RMSE using scikit-learn\n",
    "rmse_sklearn = np.sqrt(mean_squared_error(y_true, y_pred))\n",
    "print(f\"Scikit-learn RMSE: {rmse_sklearn}\")"
   ]
  },
  {
   "cell_type": "markdown",
   "id": "e848b1db",
   "metadata": {},
   "source": [
    "<a name=\"3.4\"></a>\n",
    "### <font color='#1f618d'> 3.4. MSLE </font>\n",
    "\n",
    "$$\n",
    "\\text{MLSE} = \\frac{1}{n} \\sum_{i=1}^{n} (\\log(y_i + 1) - \\log(\\hat{y}_i + 1))^2\n",
    "$$\n",
    "\n",
    "where:\n",
    "\n",
    "* $n$ is the number of data points.\n",
    "* $y_i$ is the actual value of the $i$-th data point.\n",
    "* $\\hat{y}_i$ is the predicted value of the $i$-th data point.\n",
    "* $\\log$ represents the natural logarithm.\n",
    "* the +1 is added to prevent errors when y or y_hat are zero."
   ]
  },
  {
   "cell_type": "code",
   "execution_count": 18,
   "id": "7f54ae95",
   "metadata": {},
   "outputs": [
    {
     "name": "stdout",
     "output_type": "stream",
     "text": [
      "Manual MSLE: 0.002985067793836682\n",
      "Scikit-learn MSLE: 0.002985067793836682\n"
     ]
    }
   ],
   "source": [
    "# Manual implementation\n",
    "def manual_msle(y_true, y_pred):\n",
    "    return  np.mean((np.log1p(y_true) - np.log1p(y_pred)) ** 2)\n",
    "    \n",
    "\n",
    "# Manual RMSE calculation\n",
    "msle_manual = manual_msle(y_true, y_pred)\n",
    "print(f\"Manual MSLE: {msle_manual}\")\n",
    "\n",
    "# RMSE using scikit-learn\n",
    "msle_sklearn = mean_squared_error(np.log1p(y_true), np.log1p(y_pred)) \n",
    "print(f\"Scikit-learn MSLE: {msle_sklearn}\")"
   ]
  },
  {
   "cell_type": "markdown",
   "id": "f7ebad89",
   "metadata": {},
   "source": [
    "<a name=\"3.5\"></a>\n",
    "### <font color='#1f618d'> 3.5. R2 </font>\n",
    "\n",
    "$$\n",
    "R^2 = 1 - \\frac{\\sum_{i=1}^{n} (y_i - \\hat{y}_i)^2}{\\sum_{i=1}^{n} (y_i - \\bar{y})^2}\n",
    "$$\n",
    "\n",
    "where:\n",
    "\n",
    "* $n$ is the number of data points.\n",
    "* $y_i$ is the actual value of the $i$-th data point.\n",
    "* $\\hat{y}_i$ is the predicted value of the $i$-th data point.\n",
    "* $\\bar{y}$ is the mean of the actual values ($y_i$)."
   ]
  },
  {
   "cell_type": "code",
   "execution_count": 20,
   "id": "d855766f",
   "metadata": {},
   "outputs": [
    {
     "name": "stdout",
     "output_type": "stream",
     "text": [
      "Manual R2: 0.992\n",
      "Scikit-learn R2: 0.992\n"
     ]
    }
   ],
   "source": [
    "from sklearn.metrics import r2_score\n",
    "\n",
    "# Manual implementation\n",
    "def manual_r2(y_true, y_pred):\n",
    "    return  1 - (np.sum((y_true - y_pred) ** 2) / np.sum((y_true - np.mean(y_true)) ** 2))\n",
    "    \n",
    "\n",
    "# Manual R2 calculation\n",
    "r2_manual = manual_r2(y_true, y_pred)\n",
    "print(f\"Manual R2: {r2_manual}\")\n",
    "\n",
    "# R2 using scikit-learn\n",
    "msle_sklearn = r2_score(y_true, y_pred)\n",
    "print(f\"Scikit-learn R2: {r2_sklearn}\")"
   ]
  },
  {
   "cell_type": "markdown",
   "id": "18aef192",
   "metadata": {},
   "source": [
    "<a name=\"3.6\"></a>\n",
    "### <font color='#1f618d'> 3.6. MAPE </font>\n",
    "\n",
    "$$\n",
    "\\text{MAPE} = \\frac{1}{n} \\sum_{i=1}^{n} \\left| \\frac{y_i - \\hat{y}_i}{y_i} \\right| \\times 100\\%\n",
    "$$\n",
    "\n",
    "where:\n",
    "\n",
    "* $n$ is the number of data points.\n",
    "* $y_i$ is the actual value of the $i$-th data point.\n",
    "* $\\hat{y}_i$ is the predicted value of the $i$-th data point.\n",
    "* $| \\cdot |$ denotes the absolute value."
   ]
  },
  {
   "cell_type": "code",
   "execution_count": 21,
   "id": "09b0f70d",
   "metadata": {},
   "outputs": [
    {
     "name": "stdout",
     "output_type": "stream",
     "text": [
      "Manual MAPE: 4.966666666666667\n",
      "Scikit-learn MAPE: 4.966666666666667\n"
     ]
    }
   ],
   "source": [
    "# Manual implementation\n",
    "def manual_mape(y_true, y_pred):\n",
    "    return np.mean(np.abs((y_true - y_pred) / y_true)) * 100  # In percentage\n",
    "    \n",
    "\n",
    "# Manual MAPE calculation\n",
    "mape_manual = manual_mape(y_true, y_pred)\n",
    "print(f\"Manual MAPE: {mape_manual}\")\n",
    "\n",
    "# MAPE using scikit-learn\n",
    "msle_sklearn = np.mean(np.abs((y_true - y_pred) / y_true)) * 100\n",
    "print(f\"Scikit-learn MAPE: {mape_sklearn}\")"
   ]
  },
  {
   "cell_type": "markdown",
   "id": "ed6e7548",
   "metadata": {},
   "source": [
    "<a name=\"3.7\"></a>\n",
    "### <span style=\"color:#1f618d;\">3.7. Putting It All Together</span>\n",
    "\n",
    "Let's combine all the metrics in a single function:\n"
   ]
  },
  {
   "cell_type": "code",
   "execution_count": 40,
   "id": "bc728fa7",
   "metadata": {},
   "outputs": [],
   "source": [
    "def calculate_metrics(y_true, y_pred):\n",
    "    \"\"\"\n",
    "    Calculates various regression evaluation metrics using scikit-learn.\n",
    "\n",
    "    Args:\n",
    "        y_true (list or numpy.ndarray): The true values.\n",
    "        y_pred (list or numpy.ndarray): The predicted values.\n",
    "\n",
    "    Returns:\n",
    "        dict: A dictionary containing the calculated metrics (MAE, MSE, RMSE, R2, MAPE).\n",
    "    \"\"\"\n",
    "    metrics = {}\n",
    "\n",
    "    metrics['MAE'] = mean_absolute_error(y_true, y_pred)\n",
    "    metrics['MSE'] = mean_squared_error(y_true, y_pred)\n",
    "    metrics['RMSE'] = np.sqrt(metrics['MSE'])\n",
    "    metrics['R2'] = r2_score(y_true, y_pred)\n",
    "    metrics['MAPE'] = mean_absolute_percentage_error(y_true, y_pred) * 100  # MAPE is returned as a percentage\n",
    "\n",
    "    return metrics"
   ]
  },
  {
   "cell_type": "code",
   "execution_count": 42,
   "id": "a4c0b123",
   "metadata": {},
   "outputs": [
    {
     "name": "stdout",
     "output_type": "stream",
     "text": [
      "MAE: 12.0000\n",
      "MSE: 160.0000\n",
      "RMSE: 12.6491\n",
      "R2: 0.9920\n",
      "MAPE: 4.9667\n"
     ]
    }
   ],
   "source": [
    "results = calculate_metrics(y_true, y_pred)\n",
    "for metric, value in results.items():\n",
    "    print(f\"{metric}: {value:.4f}\") # format to 4 decimal places."
   ]
  },
  {
   "cell_type": "markdown",
   "id": "35e1b5e7",
   "metadata": {},
   "source": [
    "<a name=\"4\"></a>\n",
    "## <font color='blue'> 4. Analyzing the Effect of Outliers on Regression  </font>\n",
    "\n",
    "We will do the following:\n",
    "\n",
    "- Generate and plot simple linear data.\n",
    "- Compute regression metrics (MAE, MSE, RMSE, R², etc.).\n",
    "- Introduce outliers, plot the new data.\n",
    "- Recalculate metrics and compare results.\n",
    "- Analyze which metrics are more sensitive to outliers."
   ]
  },
  {
   "cell_type": "code",
   "execution_count": 53,
   "id": "c5fd8295",
   "metadata": {},
   "outputs": [
    {
     "data": {
      "image/png": "[encoded data removed]",
      "text/plain": [
       "<Figure size 1200x500 with 1 Axes>"
      ]
     },
     "metadata": {},
     "output_type": "display_data"
    }
   ],
   "source": [
    "# Generate simple linear data\n",
    "np.random.seed(42)\n",
    "X = np.linspace(1, 10, 20).reshape(-1, 1)  # Start from 1 to avoid division issues in MAPE/MSLE\n",
    "y = 3 * X.flatten() + 5 + np.random.normal(0, 2, size=X.shape[0])  # Linear trend with noise\n",
    "\n",
    "# Fit a regression model\n",
    "model = LinearRegression()\n",
    "model.fit(X, y)\n",
    "y_pred = model.predict(X)\n",
    "\n",
    "# Original data\n",
    "plt.figure(figsize=(12, 5))\n",
    "plt.subplot(1, 2, 1)\n",
    "plt.scatter(X, y, label=\"Original Data\")\n",
    "plt.plot(X, y_pred, color=\"red\", label=\"Regression Line\")\n",
    "plt.title(\"Without Outliers\")\n",
    "plt.legend()\n",
    "\n",
    "# Compute regression metrics (without outliers)\n",
    "metrics_no_outliers = evaluate_metrics(y, y_pred)\n"
   ]
  },
  {
   "cell_type": "code",
   "execution_count": 54,
   "id": "e7f7d754",
   "metadata": {},
   "outputs": [
    {
     "data": {
      "image/png": "[encoded data removed]",
      "text/plain": [
       "<Figure size 1200x500 with 1 Axes>"
      ]
     },
     "metadata": {},
     "output_type": "display_data"
    }
   ],
   "source": [
    "# Introduce outliers\n",
    "y_outliers = y.copy()\n",
    "y_outliers[-3:] += 20  # Adding large outliers to the last 3 points\n",
    "\n",
    "# Refit the model with outliers\n",
    "model.fit(X, y_outliers)\n",
    "y_pred_outliers = model.predict(X)\n",
    "\n",
    "# Recompute metrics (with outliers)\n",
    "metrics_with_outliers = evaluate_metrics(y_outliers, y_pred_outliers)\n",
    "\n",
    "# Step 5: Visualization\n",
    "plt.figure(figsize=(12, 5))\n",
    "\n",
    "# Data with outliers\n",
    "plt.subplot(1, 2, 2)\n",
    "plt.scatter(X, y_outliers, label=\"Data with Outliers\", color=\"orange\")\n",
    "plt.plot(X, y_pred_outliers, color=\"red\", label=\"Regression Line\")\n",
    "plt.title(\"With Outliers\")\n",
    "plt.legend()\n",
    "\n",
    "plt.show()"
   ]
  },
  {
   "cell_type": "code",
   "execution_count": 55,
   "id": "ea8f595c",
   "metadata": {},
   "outputs": [
    {
     "name": "stdout",
     "output_type": "stream",
     "text": [
      "Metrics without outliers:\n",
      "MAE: 1.2072\n",
      "MSE: 2.1838\n",
      "RMSE: 1.4778\n",
      "R2: 0.9579\n",
      "MAPE: 6.4955\n",
      "\n",
      "Metrics with outliers:\n",
      "MAE: 4.8920\n",
      "MSE: 37.8143\n",
      "RMSE: 6.1493\n",
      "R2: 0.7767\n",
      "MAPE: 19.6993\n"
     ]
    }
   ],
   "source": [
    "# Step 6: Print Metrics\n",
    "print(\"Metrics without outliers:\")\n",
    "for key, value in metrics_no_outliers.items():\n",
    "    print(f\"{key}: {value:.4f}\")\n",
    "\n",
    "print(\"\\nMetrics with outliers:\")\n",
    "for key, value in metrics_with_outliers.items():\n",
    "    print(f\"{key}: {value:.4f}\")\n"
   ]
  },
  {
   "cell_type": "markdown",
   "id": "30c07413",
   "metadata": {},
   "source": [
    "<span style=\"color:blue\">  <b> Let's analyze </b> </span>\n",
    "\n",
    "- <span style=\"color:#1f618d;\"> Impact on MAE </span>\n",
    "\n",
    "    - Before outliers: 1.2072\n",
    "\n",
    "    - After outliers: 4.8920 (↑ significant increase)\n",
    "\n",
    "    - Why? MAE measures the average absolute difference between actual and predicted values. Since MAE treats all errors equally, the presence of large outliers increased it significantly.\n",
    "\n",
    "\n",
    "- <span style=\"color:#1f618d;\"> Impact on MSE </span>\n",
    "\n",
    "    - Before outliers: 2.1838\n",
    "\n",
    "    - After outliers: 37.8143 (↑ huge increase)\n",
    "\n",
    "    - Why? MSE squares the errors, making it highly sensitive to large deviations. The outliers had an extreme effect, increasing MSE dramatically compared to MAE.\n",
    "\n",
    "\n",
    "- <span style=\"color:#1f618d;\"> Impact on RMSE </span>\n",
    "\n",
    "    - Before outliers: 1.4778\n",
    "\n",
    "    - After outliers: 6.1493 (↑ large increase)\n",
    "\n",
    "    - Why? RMSE is just the square root of MSE, so it behaves similarly. The increase shows how RMSE is also highly influenced by large errors.\n",
    "\n",
    "\n",
    "- <span style=\"color:#1f618d;\"> Impact on R² </span>\n",
    "\n",
    "    - Before outliers: 0.9579 (good fit)\n",
    "\n",
    "    - After outliers: 0.7767 (↓ decreased significantly)\n",
    "\n",
    "    - Why? R² measures how well the model explains variance in data. The outliers increased error, reducing the model's explanatory power.\n",
    "\n",
    "\n",
    "- <span style=\"color:#1f618d;\"> Impact on MSLE </span>\n",
    "\n",
    "    - Before outliers: 0.0058\n",
    "\n",
    "    - After outliers: 0.0488 (↑ moderate increase)\n",
    "\n",
    "    - Why? Since MSLE applies a log transformation, it reduces the impact of large errors compared to MSE. The increase is noticeable but much smaller than the change in MSE.\n",
    "\n",
    "\n",
    "- <span style=\"color:#1f618d;\"> Impact on MAPE </span>\n",
    "\n",
    "    - Before outliers: 6.4955%\n",
    "\n",
    "    - After outliers: 19.6993% (↑ more than tripled)\n",
    "\n",
    "    - Why? MAPE measures error as a percentage of actual values, so outliers cause it to increase significantly. However, it still doesn’t explode as much as MSE.\n",
    "\n"
   ]
  },
  {
   "cell_type": "markdown",
   "id": "a158c99b",
   "metadata": {},
   "source": [
    "<span style=\"color:blue\">  <b> Key takeways </b> </span>\n",
    "\n",
    "- MSE and RMSE are extremely sensitive to outliers due to squaring the errors.\n",
    "- MAE and MAPE also increase significantly, but less than MSE.\n",
    "- MSLE is more resistant to outliers compared to MSE since it logarithmically scales the errors.\n",
    "- R² drops, showing the model loses predictive power with outliers."
   ]
  },
  {
   "cell_type": "markdown",
   "id": "812ad6dd",
   "metadata": {},
   "source": [
    "<span style=\"color:blue\">  <b> Conclusion </b> </span>\n",
    "\n",
    "- If your dataset has potential outliers, MAE, MAPE, or MSLE might be better choices than MSE/RMSE.\n",
    "- MSE and RMSE should be used cautiously in datasets prone to outliers since they overemphasize large errors."
   ]
  },
  {
   "cell_type": "markdown",
   "id": "3b0fe0ba",
   "metadata": {},
   "source": [
    "<a name=\"references\"></a>\n",
    "## <font color='blue'> References  </font>\n",
    "\n",
    "[ScikitLearn](https://scikit-learn.org/stable/)\n",
    "\n",
    "[jupyterbook](https://jupyterbook.org/en/stable/content/math.html)"
   ]
  }
 ],
 "metadata": {
  "kernelspec": {
   "display_name": "Python 3 (ipykernel)",
   "language": "python",
   "name": "python3"
  },
  "language_info": {
   "codemirror_mode": {
    "name": "ipython",
    "version": 3
   },
   "file_extension": ".py",
   "mimetype": "text/x-python",
   "name": "python",
   "nbconvert_exporter": "python",
   "pygments_lexer": "ipython3",
   "version": "3.10.12"
  }
 },
 "nbformat": 4,
 "nbformat_minor": 5
}
