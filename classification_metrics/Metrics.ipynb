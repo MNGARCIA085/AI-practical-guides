{
 "cells": [
  {
   "cell_type": "code",
   "execution_count": null,
   "id": "34e07604",
   "metadata": {},
   "outputs": [],
   "source": []
  },
  {
   "cell_type": "code",
   "execution_count": null,
   "id": "a6f43378",
   "metadata": {},
   "outputs": [],
   "source": []
  },
  {
   "cell_type": "code",
   "execution_count": 65,
   "id": "3f00e7fc",
   "metadata": {},
   "outputs": [],
   "source": [
    "import numpy as np\n",
    "from sklearn.metrics import precision_score, recall_score\n",
    "from sklearn.metrics import confusion_matrix\n",
    "from sklearn.metrics import confusion_matrix, ConfusionMatrixDisplay\n",
    "\n",
    "import matplotlib.pyplot as plt"
   ]
  },
  {
   "cell_type": "code",
   "execution_count": null,
   "id": "14fbf9f2",
   "metadata": {},
   "outputs": [],
   "source": []
  },
  {
   "cell_type": "markdown",
   "id": "d3f8e140",
   "metadata": {},
   "source": [
    "1. Binary classification\n",
    "\n",
    "Primero simularemos la salida de un modelo.\n",
    "\n",
    "Luego pasaremos dicha salida por una sigmoide para obtener probabilidades.\n",
    "\n",
    "Usaremos un threshold para asignar a una clase (positiva o negativa).\n",
    "\n",
    "Calcularemos las métrics usando los valores predichos y los verdaderos.\n",
    "\n",
    "\n",
    "\n",
    "-> lo haremos a mano para entender cómo se hace y luego usando librerís y frameworks."
   ]
  },
  {
   "cell_type": "code",
   "execution_count": 70,
   "id": "f7a6e115",
   "metadata": {},
   "outputs": [],
   "source": [
    "# Example data\n",
    "y_true = np.array([0, 1, 1, 0, 1, 0, 0, 1, 1])  # True labels\n",
    "model_output = np.array([-2.5, 1.5, 2.3, -0.8, 0.9, 0.7, 0.75, 0.2, -0.1]) "
   ]
  },
  {
   "cell_type": "code",
   "execution_count": 71,
   "id": "c5a8fdfc",
   "metadata": {},
   "outputs": [],
   "source": [
    "# Apply sigmoid to model output to get probabilities\n",
    "probabilities = 1 / (1 + np.exp(-model_output))"
   ]
  },
  {
   "cell_type": "code",
   "execution_count": 72,
   "id": "11b6d1c1",
   "metadata": {},
   "outputs": [
    {
     "data": {
      "text/plain": [
       "array([0.07585818, 0.81757448, 0.90887704, 0.31002552, 0.7109495 ,\n",
       "       0.66818777, 0.6791787 , 0.549834  , 0.47502081])"
      ]
     },
     "execution_count": 72,
     "metadata": {},
     "output_type": "execute_result"
    }
   ],
   "source": [
    "probabilities"
   ]
  },
  {
   "cell_type": "code",
   "execution_count": 73,
   "id": "fc725ec0",
   "metadata": {},
   "outputs": [
    {
     "data": {
      "text/plain": [
       "array([0, 1, 1, 0, 1, 1, 1, 1, 0])"
      ]
     },
     "execution_count": 73,
     "metadata": {},
     "output_type": "execute_result"
    }
   ],
   "source": [
    "# Set a threshold (e.g., 0.5)\n",
    "threshold = 0.5\n",
    "y_pred = (probabilities >= threshold).astype(int)\n",
    "\n",
    "y_pred"
   ]
  },
  {
   "cell_type": "code",
   "execution_count": null,
   "id": "cdd2b888",
   "metadata": {},
   "outputs": [],
   "source": []
  },
  {
   "cell_type": "markdown",
   "id": "4f793203",
   "metadata": {},
   "source": [
    "### By hand"
   ]
  },
  {
   "cell_type": "code",
   "execution_count": 74,
   "id": "3615a5b9",
   "metadata": {},
   "outputs": [],
   "source": [
    "def calculate_confusion_matrix(y_true, y_pred):\n",
    "    # Initialize counts for TP, TN, FP, FN\n",
    "    tp = np.sum((y_true == 1) & (y_pred == 1))\n",
    "    tn = np.sum((y_true == 0) & (y_pred == 0))\n",
    "    fp = np.sum((y_true == 0) & (y_pred == 1))\n",
    "    fn = np.sum((y_true == 1) & (y_pred == 0))\n",
    "    \n",
    "    return tp, tn, fp, fn"
   ]
  },
  {
   "cell_type": "code",
   "execution_count": 75,
   "id": "14cae015",
   "metadata": {},
   "outputs": [
    {
     "data": {
      "text/plain": [
       "(4, 2, 2, 1)"
      ]
     },
     "execution_count": 75,
     "metadata": {},
     "output_type": "execute_result"
    }
   ],
   "source": [
    "tp, tn, fp, fn = calculate_confusion_matrix(y_true, y_pred)\n",
    "tp, tn, fp, fn"
   ]
  },
  {
   "cell_type": "code",
   "execution_count": 76,
   "id": "bef835ba",
   "metadata": {},
   "outputs": [
    {
     "data": {
      "text/plain": [
       "0.6666666666666666"
      ]
     },
     "execution_count": 76,
     "metadata": {},
     "output_type": "execute_result"
    }
   ],
   "source": [
    "precision = tp / (tp + fp)\n",
    "precision"
   ]
  },
  {
   "cell_type": "code",
   "execution_count": 77,
   "id": "3cdc46d1",
   "metadata": {},
   "outputs": [
    {
     "data": {
      "text/plain": [
       "0.8"
      ]
     },
     "execution_count": 77,
     "metadata": {},
     "output_type": "execute_result"
    }
   ],
   "source": [
    "recall = tp / (tp + fn)\n",
    "recall"
   ]
  },
  {
   "cell_type": "code",
   "execution_count": 93,
   "id": "1ef5c9d1",
   "metadata": {},
   "outputs": [],
   "source": [
    "# now i will calculate precision and recall for different thresholds\n",
    "\n",
    "thresholds = [0.2, 0.25, 0.35, 0.4, 0.45, 0.5, 0.6, 0.65, 0.7, 0.85, 0.9]\n",
    "preds = []\n",
    "recalls = []\n",
    "\n",
    "thresholds = [0.07, 0.31, 0.47, 0.54,   \n",
    "              0.66, 0.67, 0.7,  0.8, 0.9]\n",
    "\n",
    "\n",
    "for t in thresholds:\n",
    "    # y_pred depends on the threshold\n",
    "    y_pred = (probabilities >= t).astype(int)\n",
    "    #\n",
    "    tp, tn, fp, fn = calculate_confusion_matrix(y_true, y_pred)\n",
    "    # \n",
    "    preds.append(tp/(tp + fp))\n",
    "    recalls.append(tp/(tp+fn))\n",
    "    #\n",
    "    \n",
    "\n",
    "\n"
   ]
  },
  {
   "cell_type": "code",
   "execution_count": 94,
   "id": "e600ea3f",
   "metadata": {},
   "outputs": [
    {
     "data": {
      "text/plain": [
       "([0.5555555555555556,\n",
       "  0.625,\n",
       "  0.7142857142857143,\n",
       "  0.6666666666666666,\n",
       "  0.6,\n",
       "  0.75,\n",
       "  1.0,\n",
       "  1.0,\n",
       "  1.0],\n",
       " [1.0, 1.0, 1.0, 0.8, 0.6, 0.6, 0.6, 0.4, 0.2])"
      ]
     },
     "execution_count": 94,
     "metadata": {},
     "output_type": "execute_result"
    }
   ],
   "source": [
    "preds, recalls"
   ]
  },
  {
   "cell_type": "code",
   "execution_count": 103,
   "id": "9c2c4cb3",
   "metadata": {},
   "outputs": [
    {
     "data": {
      "image/png": "[encoded data removed]",
      "text/plain": [
       "<Figure size 700x500 with 1 Axes>"
      ]
     },
     "metadata": {},
     "output_type": "display_data"
    }
   ],
   "source": [
    "plt.figure(figsize=(7, 5))\n",
    "plt.plot(recalls, preds, marker='.')\n",
    "#plt.xlim(0, 1)  # Set x-axis limit\n",
    "#plt.ylim(0, 1)  # Set y-axis limit\n",
    "plt.xlabel('Predictions')\n",
    "plt.ylabel('Recall')\n",
    "plt.title('Precision-Recall curve')\n",
    "plt.grid()\n",
    "plt.show()"
   ]
  },
  {
   "cell_type": "code",
   "execution_count": null,
   "id": "cac9dc6c",
   "metadata": {},
   "outputs": [],
   "source": []
  },
  {
   "cell_type": "code",
   "execution_count": null,
   "id": "f455ff5f",
   "metadata": {},
   "outputs": [],
   "source": []
  },
  {
   "cell_type": "code",
   "execution_count": null,
   "id": "7ce36e4e",
   "metadata": {},
   "outputs": [],
   "source": []
  },
  {
   "cell_type": "code",
   "execution_count": null,
   "id": "521336a5",
   "metadata": {},
   "outputs": [],
   "source": []
  },
  {
   "cell_type": "code",
   "execution_count": null,
   "id": "894ec400",
   "metadata": {},
   "outputs": [],
   "source": []
  },
  {
   "cell_type": "markdown",
   "id": "fe459fc9",
   "metadata": {},
   "source": [
    "### ScikitLearn"
   ]
  },
  {
   "cell_type": "code",
   "execution_count": 49,
   "id": "8d59e703",
   "metadata": {},
   "outputs": [
    {
     "name": "stdout",
     "output_type": "stream",
     "text": [
      "Accuracy: 0.6666666666666666\n",
      "Precision: 0.6666666666666666\n",
      "Recall: 0.8\n",
      "False Positive Rate (FPR): 0.5\n",
      "F1-score: 0.7272727272727272\n",
      "F0.5-score: 0.689655172413793\n",
      "F2-score: 0.7692307692307692\n"
     ]
    }
   ],
   "source": [
    "import numpy as np\n",
    "from sklearn.metrics import accuracy_score, precision_score, recall_score, f1_score, confusion_matrix, fbeta_score\n",
    "\n",
    "# Example data\n",
    "\n",
    "\n",
    "# Calculate confusion matrix\n",
    "tn, fp, fn, tp = confusion_matrix(y_true, y_pred).ravel()\n",
    "\n",
    "\n",
    "# dsp. las voy a pasar a una fn. y con distintos thresholds voy a probar los resultaydos!!!\n",
    "# y crear las gráficas precision-recall.....\n",
    "\n",
    "# Metrics\n",
    "accuracy = accuracy_score(y_true, y_pred)\n",
    "precision = precision_score(y_true, y_pred, zero_division=1)\n",
    "recall = recall_score(y_true, y_pred, zero_division=1)\n",
    "fpr = fp / (fp + tn) if (fp + tn) > 0 else 0  # False Positive Rate\n",
    "f1 = f1_score(y_true, y_pred)\n",
    "f0_5 = fbeta_score(y_true, y_pred, beta=0.5)\n",
    "f2 = fbeta_score(y_true, y_pred, beta=2)\n",
    "\n",
    "# Output\n",
    "print(f\"Accuracy: {accuracy}\")\n",
    "print(f\"Precision: {precision}\")\n",
    "print(f\"Recall: {recall}\")\n",
    "print(f\"False Positive Rate (FPR): {fpr}\")\n",
    "print(f\"F1-score: {f1}\")\n",
    "print(f\"F0.5-score: {f0_5}\")\n",
    "print(f\"F2-score: {f2}\")"
   ]
  },
  {
   "cell_type": "code",
   "execution_count": null,
   "id": "b79c5743",
   "metadata": {},
   "outputs": [],
   "source": []
  },
  {
   "cell_type": "code",
   "execution_count": null,
   "id": "cc8511bd",
   "metadata": {},
   "outputs": [],
   "source": []
  },
  {
   "cell_type": "code",
   "execution_count": null,
   "id": "b83eec81",
   "metadata": {},
   "outputs": [],
   "source": []
  },
  {
   "cell_type": "code",
   "execution_count": null,
   "id": "1aec7b8b",
   "metadata": {},
   "outputs": [],
   "source": []
  },
  {
   "cell_type": "code",
   "execution_count": null,
   "id": "647e66b2",
   "metadata": {},
   "outputs": [],
   "source": []
  },
  {
   "cell_type": "code",
   "execution_count": null,
   "id": "4050a0fa",
   "metadata": {},
   "outputs": [],
   "source": []
  },
  {
   "cell_type": "code",
   "execution_count": null,
   "id": "03f93ef4",
   "metadata": {},
   "outputs": [],
   "source": []
  },
  {
   "cell_type": "code",
   "execution_count": null,
   "id": "e26f1cea",
   "metadata": {},
   "outputs": [],
   "source": []
  },
  {
   "cell_type": "code",
   "execution_count": null,
   "id": "70d8d173",
   "metadata": {},
   "outputs": [],
   "source": [
    "# confussion matrix\n",
    "cm = confusion_matrix(y_true, y_pred)\n",
    "cm"
   ]
  },
  {
   "cell_type": "code",
   "execution_count": null,
   "id": "c014cdd6",
   "metadata": {},
   "outputs": [],
   "source": [
    "tn, fp, fn, tp = confusion_matrix(y_true, y_pred).ravel()\n",
    "tp, tn, fp, fn"
   ]
  },
  {
   "cell_type": "markdown",
   "id": "b4172100",
   "metadata": {},
   "source": [
    "en scikitlearne el formato es:\n",
    "\n",
    "[[TN, FP],\n",
    "\n",
    " [FN, TP]]"
   ]
  },
  {
   "cell_type": "code",
   "execution_count": null,
   "id": "6932b476",
   "metadata": {},
   "outputs": [],
   "source": [
    "\n",
    "\n",
    "cm = confusion_matrix(y_true, y_pred)\n",
    "disp = ConfusionMatrixDisplay(confusion_matrix=cm)\n",
    "disp.plot()\n",
    "plt.show()\n"
   ]
  },
  {
   "cell_type": "code",
   "execution_count": null,
   "id": "5b3ccb80",
   "metadata": {},
   "outputs": [],
   "source": []
  },
  {
   "cell_type": "code",
   "execution_count": null,
   "id": "e86aaa3a",
   "metadata": {},
   "outputs": [],
   "source": []
  },
  {
   "cell_type": "code",
   "execution_count": null,
   "id": "7c2f91d5",
   "metadata": {},
   "outputs": [],
   "source": []
  },
  {
   "cell_type": "code",
   "execution_count": 12,
   "id": "4a10bd51",
   "metadata": {},
   "outputs": [],
   "source": [
    "import numpy as np\n",
    "from sklearn.metrics import precision_recall_curve\n",
    "y_true = np.array([0, 0, 1, 1])\n",
    "y_scores = np.array([0.1, 0.4, 0.35, 0.8])\n",
    "\n",
    "\n",
    "#Target scores, can either be probability estimates of the positive class, \n",
    "#or non-thresholded measure of decisions \n",
    "\n",
    "# computes preciosn-recall pairs for different thresholds\n",
    "precision, recall, thresholds = precision_recall_curve(\n",
    "    y_true, y_scores)\n"
   ]
  },
  {
   "cell_type": "code",
   "execution_count": null,
   "id": "56b42251",
   "metadata": {},
   "outputs": [],
   "source": []
  },
  {
   "cell_type": "code",
   "execution_count": 99,
   "id": "b6a9e7f3",
   "metadata": {},
   "outputs": [
    {
     "name": "stdout",
     "output_type": "stream",
     "text": [
      "[0.07585818 0.31002552 0.47502081 0.549834   0.66818777 0.6791787\n",
      " 0.7109495  0.81757448 0.90887704]\n"
     ]
    },
    {
     "data": {
      "image/png": "[encoded data removed]",
      "text/plain": [
       "<Figure size 700x500 with 1 Axes>"
      ]
     },
     "metadata": {},
     "output_type": "display_data"
    },
    {
     "data": {
      "text/plain": [
       "(array([1. , 1. , 1. , 0.8, 0.6, 0.6, 0.6, 0.4, 0.2, 0. ]),\n",
       " array([0.55555556, 0.625     , 0.71428571, 0.66666667, 0.6       ,\n",
       "        0.75      , 1.        , 1.        , 1.        , 1.        ]))"
      ]
     },
     "execution_count": 99,
     "metadata": {},
     "output_type": "execute_result"
    }
   ],
   "source": [
    "import numpy as np\n",
    "import matplotlib.pyplot as plt\n",
    "from sklearn.metrics import precision_recall_curve, auc\n",
    "\n",
    "\n",
    "\n",
    "# Compute precision-recall curve\n",
    "precision, recall, thresholds = precision_recall_curve(y_true, probabilities)\n",
    "\n",
    "print(thresholds)\n",
    "\n",
    "\n",
    "# Compute AUC for reference\n",
    "pr_auc = auc(recall, precision)\n",
    "\n",
    "# Plot Precision-Recall curve\n",
    "plt.figure(figsize=(7, 5))\n",
    "plt.plot(recall, precision, marker='.', label=f'PR Curve (AUC={pr_auc:.2f})', color='b')\n",
    "plt.xlabel('Recall')\n",
    "plt.ylabel('Precision')\n",
    "plt.title('Precision-Recall Curve')\n",
    "plt.legend()\n",
    "plt.grid()\n",
    "plt.show()\n",
    "\n",
    "\n",
    "recall, precision"
   ]
  },
  {
   "cell_type": "code",
   "execution_count": null,
   "id": "5a088c62",
   "metadata": {},
   "outputs": [],
   "source": []
  },
  {
   "cell_type": "code",
   "execution_count": 59,
   "id": "75d76d88",
   "metadata": {},
   "outputs": [
    {
     "data": {
      "image/png": "[encoded data removed]",
      "text/plain": [
       "<Figure size 700x500 with 1 Axes>"
      ]
     },
     "metadata": {},
     "output_type": "display_data"
    }
   ],
   "source": [
    "\n",
    "from sklearn.metrics import roc_curve, auc\n",
    "\n",
    "# Compute ROC curve\n",
    "fpr, tpr, thresholds = roc_curve(y_true, probabilities)\n",
    "\n",
    "# Compute AUC for reference\n",
    "roc_auc = auc(fpr, tpr)\n",
    "\n",
    "# Plot ROC curve\n",
    "plt.figure(figsize=(7, 5))\n",
    "plt.plot(fpr, tpr, marker='.', label=f'ROC Curve (AUC={roc_auc:.2f})', color='b')\n",
    "plt.plot([0, 1], [0, 1], linestyle='--', color='gray', label='Random Classifier (AUC=0.5)')\n",
    "plt.xlabel('False Positive Rate (FPR)')\n",
    "plt.ylabel('True Positive Rate (TPR)')\n",
    "plt.title('Receiver Operating Characteristic (ROC) Curve')\n",
    "plt.legend()\n",
    "plt.grid()\n",
    "plt.show()"
   ]
  },
  {
   "cell_type": "code",
   "execution_count": null,
   "id": "b18d23ea",
   "metadata": {},
   "outputs": [],
   "source": []
  },
  {
   "cell_type": "code",
   "execution_count": null,
   "id": "d6dbc9ab",
   "metadata": {},
   "outputs": [],
   "source": []
  },
  {
   "cell_type": "code",
   "execution_count": null,
   "id": "a6dfd3c9",
   "metadata": {},
   "outputs": [],
   "source": []
  },
  {
   "cell_type": "markdown",
   "id": "89c94b63",
   "metadata": {},
   "source": [
    "### Multi-class"
   ]
  },
  {
   "cell_type": "code",
   "execution_count": 105,
   "id": "316a95e5",
   "metadata": {},
   "outputs": [
    {
     "name": "stdout",
     "output_type": "stream",
     "text": [
      "Computed Confusion Matrix:\n",
      "[[100  20  10   5]\n",
      " [ 15  80   5  10]\n",
      " [ 10   5  90   5]\n",
      " [  5  10   5  80]]\n"
     ]
    }
   ],
   "source": [
    "# Define class labels\n",
    "labels = [1, 2, 3, 4]\n",
    "\n",
    "\n",
    "# Given confusion matrix\n",
    "conf_matrix = np.array([\n",
    "    [100, 20, 10, 5],  # Actual 1\n",
    "    [15, 80, 5, 10],   # Actual 2\n",
    "    [10, 5, 90, 5],    # Actual 3\n",
    "    [5, 10, 5, 80]     # Actual 4\n",
    "])\n",
    "\n",
    "\n",
    "# Generate y_true and y_pred based on the confusion matrix\n",
    "y_true = []\n",
    "y_pred = []\n",
    "\n",
    "\n",
    "for actual_class in range(4):  # Iterate over actual classes (0-indexed)\n",
    "    for predicted_class in range(4):  # Iterate over predicted classes (0-indexed)\n",
    "        count = conf_matrix[actual_class, predicted_class]\n",
    "        y_true.extend([labels[actual_class]] * count)  # Append actual class\n",
    "        y_pred.extend([labels[predicted_class]] * count)  # Append predicted class\n",
    "\n",
    "\n",
    "# Convert lists to numpy arrays\n",
    "y_true = np.array(y_true)\n",
    "y_pred = np.array(y_pred)\n",
    "\n",
    "\n",
    "# Verify the generated confusion matrix\n",
    "computed_conf_matrix = confusion_matrix(y_true, y_pred, labels=labels)\n",
    "print(\"Computed Confusion Matrix:\")\n",
    "print(computed_conf_matrix)\n",
    "\n",
    "\n",
    "\n",
    "#y_true, y_pred"
   ]
  },
  {
   "cell_type": "code",
   "execution_count": 115,
   "id": "ccfde01c",
   "metadata": {},
   "outputs": [
    {
     "data": {
      "image/png": "[encoded data removed]",
      "text/plain": [
       "<Figure size 640x480 with 2 Axes>"
      ]
     },
     "metadata": {},
     "output_type": "display_data"
    }
   ],
   "source": [
    "class_names = [\"Class 0\", \"Class 1\", \"Class 2\", \"Class 3\"]\n",
    "\n",
    "cm = confusion_matrix(y_true, y_pred)\n",
    "disp = ConfusionMatrixDisplay(confusion_matrix=cm, display_labels=class_names)\n",
    "disp.plot()\n",
    "plt.title('Coinfusin matrix')\n",
    "\n",
    "\n",
    "\n",
    "# Make axis labels bold\n",
    "plt.xlabel(\"Predicted Labels\", fontsize=10, fontweight=\"bold\", labelpad=10)\n",
    "plt.ylabel(\"Actual Labels\", fontsize=10, fontweight=\"bold\", labelpad=10)\n",
    "plt.title(\"Confusion Matrix\",  fontweight=\"bold\", color='blue', pad=15)\n",
    "\n",
    "\n",
    "plt.show()"
   ]
  },
  {
   "cell_type": "code",
   "execution_count": 67,
   "id": "37fbef6b",
   "metadata": {},
   "outputs": [
    {
     "name": "stdout",
     "output_type": "stream",
     "text": [
      "Accuracy: 0.7692\n",
      "Precision (Macro-Average): 0.7708\n",
      "Recall (Macro-Average): 0.7715\n",
      "False Positive Rate (FPR, Macro-Average): 0.0774\n",
      "F1-score (Macro-Average): 0.7710\n",
      "F0.5-score (Macro-Average): 0.7708\n",
      "F2-score (Macro-Average): 0.7713\n"
     ]
    }
   ],
   "source": [
    "# Calculate metrics\n",
    "accuracy = accuracy_score(y_true, y_pred)\n",
    "precision = precision_score(y_true, y_pred, average='macro', zero_division=1)\n",
    "recall = recall_score(y_true, y_pred, average='macro', zero_division=1)\n",
    "f1 = f1_score(y_true, y_pred, average='macro')\n",
    "f0_5 = fbeta_score(y_true, y_pred, beta=0.5, average='macro')\n",
    "f2 = fbeta_score(y_true, y_pred, beta=2, average='macro')\n",
    "\n",
    "# Calculate False Positive Rate (FPR) for each class\n",
    "fp = conf_matrix.sum(axis=0) - np.diag(conf_matrix)  # False Positives per class\n",
    "tn = conf_matrix.sum() - (conf_matrix.sum(axis=1) + conf_matrix.sum(axis=0) - np.diag(conf_matrix))  # True Negatives per class\n",
    "fpr = (fp / (fp + tn)).mean()  # Macro-average FPR\n",
    "\n",
    "# Print results\n",
    "print(f\"Accuracy: {accuracy:.4f}\")\n",
    "print(f\"Precision (Macro-Average): {precision:.4f}\")\n",
    "print(f\"Recall (Macro-Average): {recall:.4f}\")\n",
    "print(f\"False Positive Rate (FPR, Macro-Average): {fpr:.4f}\")\n",
    "print(f\"F1-score (Macro-Average): {f1:.4f}\")\n",
    "print(f\"F0.5-score (Macro-Average): {f0_5:.4f}\")\n",
    "print(f\"F2-score (Macro-Average): {f2:.4f}\")"
   ]
  },
  {
   "cell_type": "code",
   "execution_count": null,
   "id": "360bcf2f",
   "metadata": {},
   "outputs": [],
   "source": []
  },
  {
   "cell_type": "code",
   "execution_count": null,
   "id": "df6aaf82",
   "metadata": {},
   "outputs": [],
   "source": []
  },
  {
   "cell_type": "code",
   "execution_count": null,
   "id": "0a55bd10",
   "metadata": {},
   "outputs": [],
   "source": []
  },
  {
   "cell_type": "code",
   "execution_count": 68,
   "id": "0a2aa76c",
   "metadata": {},
   "outputs": [
    {
     "name": "stdout",
     "output_type": "stream",
     "text": [
      "Accuracy: 0.7692\n",
      "Precision (Macro-Average): 0.7692\n",
      "Recall (Macro-Average): 0.7692\n",
      "False Positive Rate (FPR, Macro-Average): 0.0774\n",
      "F1-score (Macro-Average): 0.7692\n",
      "F0.5-score (Macro-Average): 0.7692\n",
      "F2-score (Macro-Average): 0.7692\n"
     ]
    }
   ],
   "source": [
    "# Calculate metrics\n",
    "accuracy = accuracy_score(y_true, y_pred)\n",
    "precision = precision_score(y_true, y_pred, average='micro', zero_division=1)\n",
    "recall = recall_score(y_true, y_pred, average='micro', zero_division=1)\n",
    "f1 = f1_score(y_true, y_pred, average='micro')\n",
    "f0_5 = fbeta_score(y_true, y_pred, beta=0.5, average='micro')\n",
    "f2 = fbeta_score(y_true, y_pred, beta=2, average='micro')\n",
    "\n",
    "# Calculate False Positive Rate (FPR) for each class\n",
    "fp = conf_matrix.sum(axis=0) - np.diag(conf_matrix)  # False Positives per class\n",
    "tn = conf_matrix.sum() - (conf_matrix.sum(axis=1) + conf_matrix.sum(axis=0) - np.diag(conf_matrix))  # True Negatives per class\n",
    "fpr = (fp / (fp + tn)).mean()  # Macro-average FPR\n",
    "\n",
    "# Print results\n",
    "print(f\"Accuracy: {accuracy:.4f}\")\n",
    "print(f\"Precision (Macro-Average): {precision:.4f}\")\n",
    "print(f\"Recall (Macro-Average): {recall:.4f}\")\n",
    "print(f\"False Positive Rate (FPR, Macro-Average): {fpr:.4f}\")\n",
    "print(f\"F1-score (Macro-Average): {f1:.4f}\")\n",
    "print(f\"F0.5-score (Macro-Average): {f0_5:.4f}\")\n",
    "print(f\"F2-score (Macro-Average): {f2:.4f}\")"
   ]
  },
  {
   "cell_type": "code",
   "execution_count": null,
   "id": "cf77ee5e",
   "metadata": {},
   "outputs": [],
   "source": []
  },
  {
   "cell_type": "code",
   "execution_count": null,
   "id": "32215861",
   "metadata": {},
   "outputs": [],
   "source": []
  },
  {
   "cell_type": "code",
   "execution_count": 69,
   "id": "462d8c3b",
   "metadata": {},
   "outputs": [
    {
     "name": "stdout",
     "output_type": "stream",
     "text": [
      "Accuracy: 0.7692\n",
      "Precision (Macro-Average): 0.7700\n",
      "Recall (Macro-Average): 0.7692\n",
      "False Positive Rate (FPR, Macro-Average): 0.0774\n",
      "F1-score (Macro-Average): 0.7695\n",
      "F0.5-score (Macro-Average): 0.7698\n",
      "F2-score (Macro-Average): 0.7693\n"
     ]
    }
   ],
   "source": [
    "# Calculate metrics\n",
    "accuracy = accuracy_score(y_true, y_pred)\n",
    "precision = precision_score(y_true, y_pred, average='weighted', zero_division=1)\n",
    "recall = recall_score(y_true, y_pred, average='weighted', zero_division=1)\n",
    "f1 = f1_score(y_true, y_pred, average='weighted')\n",
    "f0_5 = fbeta_score(y_true, y_pred, beta=0.5, average='weighted')\n",
    "f2 = fbeta_score(y_true, y_pred, beta=2, average='weighted')\n",
    "\n",
    "# Calculate False Positive Rate (FPR) for each class\n",
    "fp = conf_matrix.sum(axis=0) - np.diag(conf_matrix)  # False Positives per class\n",
    "tn = conf_matrix.sum() - (conf_matrix.sum(axis=1) + conf_matrix.sum(axis=0) - np.diag(conf_matrix))  # True Negatives per class\n",
    "fpr = (fp / (fp + tn)).mean()  # Macro-average FPR\n",
    "\n",
    "# Print results\n",
    "print(f\"Accuracy: {accuracy:.4f}\")\n",
    "print(f\"Precision (Macro-Average): {precision:.4f}\")\n",
    "print(f\"Recall (Macro-Average): {recall:.4f}\")\n",
    "print(f\"False Positive Rate (FPR, Macro-Average): {fpr:.4f}\")\n",
    "print(f\"F1-score (Macro-Average): {f1:.4f}\")\n",
    "print(f\"F0.5-score (Macro-Average): {f0_5:.4f}\")\n",
    "print(f\"F2-score (Macro-Average): {f2:.4f}\")"
   ]
  },
  {
   "cell_type": "code",
   "execution_count": null,
   "id": "cb6c3ddd",
   "metadata": {},
   "outputs": [],
   "source": []
  }
 ],
 "metadata": {
  "kernelspec": {
   "display_name": "Python 3 (ipykernel)",
   "language": "python",
   "name": "python3"
  },
  "language_info": {
   "codemirror_mode": {
    "name": "ipython",
    "version": 3
   },
   "file_extension": ".py",
   "mimetype": "text/x-python",
   "name": "python",
   "nbconvert_exporter": "python",
   "pygments_lexer": "ipython3",
   "version": "3.10.12"
  }
 },
 "nbformat": 4,
 "nbformat_minor": 5
}
