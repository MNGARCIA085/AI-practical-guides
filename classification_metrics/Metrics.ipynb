{
 "cells": [
  {
   "cell_type": "markdown",
   "id": "72fd7295",
   "metadata": {},
   "source": [
    "# <font color='#1a5276'> <b> <center> CLASSIFICATION METRICS </center> </b> </font>"
   ]
  },
  {
   "cell_type": "markdown",
   "id": "908157f7",
   "metadata": {},
   "source": [
    "## <b> <font color='blue'> Table of Contents </font> </b>\n",
    "\n",
    "1. [Introduction](#1)  \n",
    "2. [Setup](#2)  \n",
    "3. [Binary classification](#3)  \n",
    "&nbsp;&nbsp;&nbsp;&nbsp; 3.1. [Data](#3.1)  \n",
    "&nbsp;&nbsp;&nbsp;&nbsp; 3.2. [Manual calculation](#3.2)  \n",
    "&nbsp;&nbsp;&nbsp;&nbsp;&nbsp;&nbsp;&nbsp;&nbsp; 3.2.1. [Accuracy](#3.2.1)  \n",
    "&nbsp;&nbsp;&nbsp;&nbsp;&nbsp;&nbsp;&nbsp;&nbsp; 3.2.2. [Precision](#3.2.2)  \n",
    "&nbsp;&nbsp;&nbsp;&nbsp;&nbsp;&nbsp;&nbsp;&nbsp; 3.2.3. [Recall](#3.2.3)  \n",
    "&nbsp;&nbsp;&nbsp;&nbsp;&nbsp;&nbsp;&nbsp;&nbsp; 3.2.4. [False Positive Rate](#3.2.4)  \n",
    "&nbsp;&nbsp;&nbsp;&nbsp;&nbsp;&nbsp;&nbsp;&nbsp; 3.2.5. [F1-score](#3.2.5)  \n",
    "&nbsp;&nbsp;&nbsp;&nbsp;&nbsp;&nbsp;&nbsp;&nbsp; 3.2.6. [F05-score](#3.2.6)  \n",
    "&nbsp;&nbsp;&nbsp;&nbsp;&nbsp;&nbsp;&nbsp;&nbsp; 3.2.7. [F2-score](#3.2.7)  \n",
    "&nbsp;&nbsp;&nbsp;&nbsp;&nbsp;&nbsp;&nbsp;&nbsp; 3.2.8. [Precision-Recall curve](#3.2.8)  \n",
    "&nbsp;&nbsp;&nbsp;&nbsp;&nbsp;&nbsp;&nbsp;&nbsp; 3.2.9. [ROC Curve](#3.2.9)  \n",
    "&nbsp;&nbsp;&nbsp;&nbsp; 3.3. [Calculation using ScikitLearn](#3.3)  \n",
    "4. [Multiclass classification](#4)  \n",
    "&nbsp;&nbsp;&nbsp;&nbsp; 4.1. [Data](#4.1)  \n",
    "&nbsp;&nbsp;&nbsp;&nbsp; 4.2. [Metrics](#4.2)  \n",
    "5. [References](#references)  "
   ]
  },
  {
   "cell_type": "markdown",
   "id": "6a8e0ceb",
   "metadata": {},
   "source": [
    "<a name=\"1\"></a>\n",
    "## <font color='blue'> 1. Introduction </font>\n",
    "\n",
    "This notebook provides a practical guide to evaluating classification models using key performance metrics. It covers essential metrics for binary classification, such as accuracy, precision, recall, F1-score, and ROC-AUC, before generalizing them to multiclass problems."
   ]
  },
  {
   "cell_type": "markdown",
   "id": "a59f7cd5",
   "metadata": {},
   "source": [
    "<a name=\"2\"></a>\n",
    "## <font color='blue'> 2. Setup </font>"
   ]
  },
  {
   "cell_type": "code",
   "execution_count": 104,
   "id": "a87de4bf",
   "metadata": {},
   "outputs": [],
   "source": [
    "import numpy as np  \n",
    "import matplotlib.pyplot as plt  \n",
    "from sklearn.metrics import (\n",
    "    accuracy_score, precision_score, recall_score, confusion_matrix, \n",
    "    ConfusionMatrixDisplay, f1_score, fbeta_score\n",
    ")\n",
    "from sklearn.metrics import precision_recall_curve, auc, roc_curve"
   ]
  },
  {
   "cell_type": "markdown",
   "id": "c16418fb",
   "metadata": {},
   "source": [
    "<a name=\"3\"></a>\n",
    "## <font color='blue'> 3. Binary Classification </font>\n",
    "\n",
    "<a name=\"3.1\"></a>\n",
    "### <font color='#2874a6'> 3.1. Data </font>"
   ]
  },
  {
   "cell_type": "markdown",
   "id": "d3f8e140",
   "metadata": {},
   "source": [
    "- First, we will simulate a model's output.\n",
    "\n",
    "- Then, we will pass this output through a sigmoid to obtain probabilities.\n",
    "\n",
    "- We will use a threshold to assign a class (positive or negative).\n",
    "\n",
    "- In a later section, we will calculate the metrics using the predicted and true values.\n"
   ]
  },
  {
   "cell_type": "code",
   "execution_count": 105,
   "id": "f7a6e115",
   "metadata": {},
   "outputs": [],
   "source": [
    "# simulate true labels\n",
    "y_true = np.array([0, 1, 1, 0, 1, 0, 0, 1, 1, 1])  # True labels\n",
    "\n",
    "# simulate model output\n",
    "model_output = np.array([-2.5, 1.5, 2.3, -0.8, 0.9, 0.7, 0.75, 0.2, -0.1, 0.9]) "
   ]
  },
  {
   "cell_type": "code",
   "execution_count": 106,
   "id": "c5a8fdfc",
   "metadata": {},
   "outputs": [
    {
     "data": {
      "text/plain": [
       "array([0.07585818, 0.81757448, 0.90887704, 0.31002552, 0.7109495 ,\n",
       "       0.66818777, 0.6791787 , 0.549834  , 0.47502081, 0.7109495 ])"
      ]
     },
     "execution_count": 106,
     "metadata": {},
     "output_type": "execute_result"
    }
   ],
   "source": [
    "# Apply sigmoid to model output to get probabilities\n",
    "model_output_probabilities = 1 / (1 + np.exp(-model_output))\n",
    "model_output_probabilities"
   ]
  },
  {
   "cell_type": "code",
   "execution_count": 107,
   "id": "afbc9a52",
   "metadata": {},
   "outputs": [
    {
     "data": {
      "text/plain": [
       "array([0, 1, 1, 0, 1, 1, 1, 1, 0, 1])"
      ]
     },
     "execution_count": 107,
     "metadata": {},
     "output_type": "execute_result"
    }
   ],
   "source": [
    "def apply_threshold(probs, threshold=0.5):\n",
    "    return (probs >= threshold).astype(int)\n",
    "\n",
    "# apply threshold\n",
    "y_pred = apply_threshold(model_output_probabilities,0.5)\n",
    "y_pred"
   ]
  },
  {
   "cell_type": "markdown",
   "id": "4f793203",
   "metadata": {},
   "source": [
    "<a name=\"3.2\"></a>\n",
    "### <font color='#2874a6'> 3.2. Manual calculation </font>\n",
    "\n",
    "We will implement metrics from scratch to understand their computation."
   ]
  },
  {
   "cell_type": "code",
   "execution_count": 108,
   "id": "3615a5b9",
   "metadata": {},
   "outputs": [],
   "source": [
    "# calculate true positives, true negatives, false positives and false negatives\n",
    "# this gives the confusion matrix\n",
    "def calculate_confusion_matrix(y_true, y_pred):\n",
    "    # Initialize counts for TP, TN, FP, FN\n",
    "    tp = np.sum((y_true == 1) & (y_pred == 1))\n",
    "    tn = np.sum((y_true == 0) & (y_pred == 0))\n",
    "    fp = np.sum((y_true == 0) & (y_pred == 1))\n",
    "    fn = np.sum((y_true == 1) & (y_pred == 0))\n",
    "    \n",
    "    return tp, tn, fp, fn"
   ]
  },
  {
   "cell_type": "code",
   "execution_count": 109,
   "id": "14cae015",
   "metadata": {},
   "outputs": [
    {
     "data": {
      "text/plain": [
       "(5, 2, 2, 1)"
      ]
     },
     "execution_count": 109,
     "metadata": {},
     "output_type": "execute_result"
    }
   ],
   "source": [
    "tp, tn, fp, fn = calculate_confusion_matrix(y_true, y_pred)\n",
    "tp, tn, fp, fn"
   ]
  },
  {
   "cell_type": "markdown",
   "id": "69baef24",
   "metadata": {},
   "source": [
    "<a name=\"3.2.1\"></a>\n",
    "### <font color='black'> 3.2.1. Accuracy </font>\n",
    "\n",
    "\n",
    "$$\n",
    "\\text{Accuracy} = \\frac{\\text{Number of Correct Predictions}}{\\text{Total Number of Predictions}}\n",
    "$$\n",
    "\n",
    "or\n",
    "\n",
    "$$\n",
    "\\text{Accuracy} = \\frac{TP + TN}{TP + TN + FP + FN}\n",
    "$$\n",
    "\n",
    "where:\n",
    "\n",
    "* $TP$ = True Positives (correctly predicted positive cases)\n",
    "* $TN$ = True Negatives (correctly predicted negative cases)\n",
    "* $FP$ = False Positives (incorrectly predicted positive cases)\n",
    "* $FN$ = False Negatives (incorrectly predicted negative cases)"
   ]
  },
  {
   "cell_type": "code",
   "execution_count": 110,
   "id": "dea3bd14",
   "metadata": {},
   "outputs": [
    {
     "data": {
      "text/plain": [
       "0.7"
      ]
     },
     "execution_count": 110,
     "metadata": {},
     "output_type": "execute_result"
    }
   ],
   "source": [
    "def calculate_accuracy(y_true, y_pred):\n",
    "    \"\"\"\n",
    "    Calculate the precision of a binary classification model.\n",
    "\n",
    "    Precision is the ratio of true positives (TP) to the sum of true positives (TP) \n",
    "    and false positives (FP), indicating the accuracy of positive predictions.\n",
    "\n",
    "    Parameters:\n",
    "    y_true (array-like): True binary labels.\n",
    "    y_pred (array-like): Predicted binary labels.\n",
    "\n",
    "    Returns:\n",
    "    float: The accuracy score.\n",
    "    \"\"\"\n",
    "    tp, tn, fp, fn = calculate_confusion_matrix(y_true, y_pred)\n",
    "    return (tp + tn) / (tp + tn + fp + fn)\n",
    "\n",
    "calculate_accuracy(y_true, y_pred)"
   ]
  },
  {
   "cell_type": "markdown",
   "id": "5c32852f",
   "metadata": {},
   "source": [
    "<a name=\"3.2.2\"></a>\n",
    "### <font color='black'> 3.2.2. Precision </font>\n",
    "\n",
    "\n",
    "$$\n",
    "\\text{Precision} = \\frac{TP}{TP + FP}\n",
    "$$\n",
    "\n",
    "where:\n",
    "\n",
    "* $TP$ = True Positives (correctly predicted positive cases)\n",
    "* $FP$ = False Positives (incorrectly predicted positive cases)"
   ]
  },
  {
   "cell_type": "code",
   "execution_count": 111,
   "id": "a14fa3bf",
   "metadata": {},
   "outputs": [
    {
     "data": {
      "text/plain": [
       "0.7142857142857143"
      ]
     },
     "execution_count": 111,
     "metadata": {},
     "output_type": "execute_result"
    }
   ],
   "source": [
    "def calculate_precision(y_true, y_pred):\n",
    "    tp, _, fp, _ = calculate_confusion_matrix(y_true, y_pred)\n",
    "    return tp / (tp + fp)\n",
    "\n",
    "\n",
    "calculate_precision(y_true, y_pred)\n"
   ]
  },
  {
   "cell_type": "markdown",
   "id": "d8e61157",
   "metadata": {},
   "source": [
    "<a name=\"3.2.3\"></a>\n",
    "### <font color='black'> 3.2.3. Recall </font>\n",
    "\n",
    "\n",
    "$$\n",
    "\\text{Recall} = \\frac{TP}{TP + FN}\n",
    "$$\n",
    "\n",
    "where:\n",
    "\n",
    "* $TP$ = True Positives (correctly predicted positive cases)\n",
    "* $FN$ = False Negatives (incorrectly predicted negative cases)"
   ]
  },
  {
   "cell_type": "code",
   "execution_count": 112,
   "id": "0664a4f0",
   "metadata": {},
   "outputs": [
    {
     "data": {
      "text/plain": [
       "0.8333333333333334"
      ]
     },
     "execution_count": 112,
     "metadata": {},
     "output_type": "execute_result"
    }
   ],
   "source": [
    "def calculate_recall(y_true, y_pred):\n",
    "    tp, _, _ , fn = calculate_confusion_matrix(y_true, y_pred)\n",
    "    return tp / (tp + fn)\n",
    "\n",
    "calculate_recall(y_true, y_pred)"
   ]
  },
  {
   "cell_type": "markdown",
   "id": "83b60189",
   "metadata": {},
   "source": [
    "<a name=\"3.2.4\"></a>\n",
    "### <font color='black'> 3.2.4. False Positive Rate </font>\n",
    "\n",
    "\n",
    "$$\n",
    "\\text{FPR} = \\frac{FP}{FP + TN}\n",
    "$$\n",
    "\n",
    "where:\n",
    "\n",
    "* $FP$ = False Positives (incorrectly predicted positive cases)\n",
    "* $TN$ = True Negatives (correctly predicted negative cases)"
   ]
  },
  {
   "cell_type": "code",
   "execution_count": 113,
   "id": "afa13b53",
   "metadata": {},
   "outputs": [
    {
     "data": {
      "text/plain": [
       "0.5"
      ]
     },
     "execution_count": 113,
     "metadata": {},
     "output_type": "execute_result"
    }
   ],
   "source": [
    "def calculate_fpr(y_true, y_pred):\n",
    "    tp, tn, fp, fn = calculate_confusion_matrix(y_true, y_pred)\n",
    "    return fp / (fp + tn)\n",
    "\n",
    "calculate_fpr(y_true, y_pred)"
   ]
  },
  {
   "cell_type": "markdown",
   "id": "b1044d4c",
   "metadata": {},
   "source": [
    "<a name=\"3.2.5\"></a>\n",
    "### <font color='black'> 3.2.5. F1-score </font>\n",
    "\n",
    "\n",
    "$$\n",
    "\\text{F1-score} = 2 \\times \\frac{\\text{Precision} \\times \\text{Recall}}{\\text{Precision} + \\text{Recall}}\n",
    "$$\n",
    "\n",
    "or equivalently:\n",
    "\n",
    "$$\n",
    "\\text{F1-score} = \\frac{2 \\times TP}{2 \\times TP + FP + FN}\n",
    "$$\n",
    "\n",
    "where:\n",
    "\n",
    "* $TP$ = True Positives\n",
    "* $FP$ = False Positives\n",
    "* $FN$ = False Negatives"
   ]
  },
  {
   "cell_type": "code",
   "execution_count": 114,
   "id": "f030b037",
   "metadata": {},
   "outputs": [
    {
     "data": {
      "text/plain": [
       "0.7692307692307692"
      ]
     },
     "execution_count": 114,
     "metadata": {},
     "output_type": "execute_result"
    }
   ],
   "source": [
    "def calculate_f1_score(y_true, y_pred):\n",
    "    precision = calculate_precision(y_true, y_pred)\n",
    "    recall = calculate_recall(y_true, y_pred)\n",
    "    return 2*(precision*recall)/(precision + recall)\n",
    "\n",
    "calculate_f1_score(y_true, y_pred)"
   ]
  },
  {
   "cell_type": "markdown",
   "id": "c3809d10",
   "metadata": {},
   "source": [
    "<a name=\"3.2.6\"></a>\n",
    "### <font color='black'> 3.2.6. F05-score </font>\n",
    "\n",
    "\n",
    "$$\n",
    "\\text{F0.5-score} = (1 + 0.5^2) \\times \\frac{\\text{Precision} \\times \\text{Recall}}{(0.5^2 \\times \\text{Precision}) + \\text{Recall}}\n",
    "$$\n",
    "\n",
    "or\n",
    "\n",
    "$$\n",
    "\\text{F0.5-score} = 1.25 \\times \\frac{\\text{Precision} \\times \\text{Recall}}{(0.25 \\times \\text{Precision}) + \\text{Recall}}\n",
    "$$\n",
    "\n",
    "where:\n",
    "\n",
    "* Precision = TP / (TP + FP)\n",
    "* Recall = TP / (TP + FN)\n",
    "* TP = True Positives\n",
    "* FP = False Positives\n",
    "* FN = False Negatives"
   ]
  },
  {
   "cell_type": "code",
   "execution_count": 115,
   "id": "ed6b818b",
   "metadata": {},
   "outputs": [
    {
     "data": {
      "text/plain": [
       "0.7352941176470589"
      ]
     },
     "execution_count": 115,
     "metadata": {},
     "output_type": "execute_result"
    }
   ],
   "source": [
    "def calculate_f05_score(y_true, y_pred):\n",
    "    precision = calculate_precision(y_true, y_pred)\n",
    "    recall = calculate_recall(y_true, y_pred)\n",
    "    return 1.25*(precision*recall)/(0.25*precision + recall)\n",
    "\n",
    "calculate_f05_score(y_true, y_pred)"
   ]
  },
  {
   "cell_type": "markdown",
   "id": "314ae2e7",
   "metadata": {},
   "source": [
    "<a name=\"3.2.7\"></a>\n",
    "### <font color='black'> 3.2.7. F2-score </font>\n",
    "\n",
    "\n",
    "$$\n",
    "\\text{F2-score} = (1 + 2^2) \\times \\frac{\\text{Precision} \\times \\text{Recall}}{(2^2 \\times \\text{Precision}) + \\text{Recall}}\n",
    "$$\n",
    "\n",
    "or\n",
    "\n",
    "$$\n",
    "\\text{F2-score} = 5 \\times \\frac{\\text{Precision} \\times \\text{Recall}}{(4 \\times \\text{Precision}) + \\text{Recall}}\n",
    "$$\n",
    "\n",
    "where:\n",
    "\n",
    "* Precision = TP / (TP + FP)\n",
    "* Recall = TP / (TP + FN)\n",
    "* TP = True Positives\n",
    "* FP = False Positives\n",
    "* FN = False Negatives"
   ]
  },
  {
   "cell_type": "code",
   "execution_count": 116,
   "id": "78b60b52",
   "metadata": {},
   "outputs": [
    {
     "data": {
      "text/plain": [
       "0.8064516129032258"
      ]
     },
     "execution_count": 116,
     "metadata": {},
     "output_type": "execute_result"
    }
   ],
   "source": [
    "def calculate_f2_score(y_true, y_pred):\n",
    "    precision = calculate_precision(y_true, y_pred)\n",
    "    recall = calculate_recall(y_true, y_pred)\n",
    "    return 5*(precision*recall)/(4*precision + recall)\n",
    "\n",
    "calculate_f2_score(y_true, y_pred)"
   ]
  },
  {
   "cell_type": "markdown",
   "id": "3c796d74",
   "metadata": {},
   "source": [
    "<a name=\"3.2.8\"></a>\n",
    "### <font color='black'> 3.2.8. Precision-Recall curve </font>\n",
    "\n",
    "\n",
    "We will calculate precision and recall for different thresholds and plot them against each other."
   ]
  },
  {
   "cell_type": "code",
   "execution_count": 117,
   "id": "cf2f3365",
   "metadata": {},
   "outputs": [],
   "source": [
    "def precisions_recalls_curve(y_true, probabilities, thresholds):\n",
    "    preds = []\n",
    "    recalls = []\n",
    "    \n",
    "    for t in thresholds:\n",
    "        # apply the threshold\n",
    "        y_pred = apply_threshold(probabilities, t)\n",
    "        # calculate important data\n",
    "        tp, tn, fp, fn = calculate_confusion_matrix(y_true, y_pred)\n",
    "        # calculate precision and recall and append them to the corresponding list\n",
    "        preds.append(tp/(tp + fp))\n",
    "        recalls.append(tp/(tp + fn))\n",
    "        \n",
    "    return preds, recalls"
   ]
  },
  {
   "cell_type": "code",
   "execution_count": 118,
   "id": "80e6504c",
   "metadata": {},
   "outputs": [],
   "source": [
    "thresholds = [0.2, 0.25, 0.35, 0.4, 0.45, 0.5, 0.6, 0.65, 0.7, 0.85, 0.9]\n",
    "\n",
    "preds, recalls = precisions_recalls_curve(y_true, model_output_probabilities, thresholds)"
   ]
  },
  {
   "cell_type": "code",
   "execution_count": 126,
   "id": "e600ea3f",
   "metadata": {},
   "outputs": [
    {
     "data": {
      "text/plain": [
       "[0.6666666666666666,\n",
       " 0.6666666666666666,\n",
       " 0.75,\n",
       " 0.75,\n",
       " 0.75,\n",
       " 0.7142857142857143,\n",
       " 0.6666666666666666,\n",
       " 0.6666666666666666,\n",
       " 1.0,\n",
       " 1.0,\n",
       " 1.0]"
      ]
     },
     "execution_count": 126,
     "metadata": {},
     "output_type": "execute_result"
    }
   ],
   "source": [
    "preds"
   ]
  },
  {
   "cell_type": "code",
   "execution_count": 128,
   "id": "0debebe2",
   "metadata": {},
   "outputs": [
    {
     "data": {
      "text/plain": [
       "[1.0,\n",
       " 1.0,\n",
       " 1.0,\n",
       " 1.0,\n",
       " 1.0,\n",
       " 0.8333333333333334,\n",
       " 0.6666666666666666,\n",
       " 0.6666666666666666,\n",
       " 0.6666666666666666,\n",
       " 0.16666666666666666,\n",
       " 0.16666666666666666]"
      ]
     },
     "execution_count": 128,
     "metadata": {},
     "output_type": "execute_result"
    }
   ],
   "source": [
    "recalls"
   ]
  },
  {
   "cell_type": "code",
   "execution_count": 120,
   "id": "9c2c4cb3",
   "metadata": {},
   "outputs": [
    {
     "data": {
      "image/png": "[encoded data removed]",
      "text/plain": [
       "<Figure size 700x500 with 1 Axes>"
      ]
     },
     "metadata": {},
     "output_type": "display_data"
    }
   ],
   "source": [
    "plt.figure(figsize=(7, 5))\n",
    "plt.plot(recalls, preds, marker='.')\n",
    "plt.xlabel('Predictions')\n",
    "plt.ylabel('Recall')\n",
    "plt.title('Precision-Recall curve')\n",
    "plt.grid()\n",
    "plt.show()"
   ]
  },
  {
   "cell_type": "markdown",
   "id": "ca2bbea4",
   "metadata": {},
   "source": [
    "<a name=\"3.2.9\"></a>\n",
    "### <font color='black'> 3.2.9. ROC Curve </font>\n"
   ]
  },
  {
   "cell_type": "code",
   "execution_count": 122,
   "id": "f455ff5f",
   "metadata": {},
   "outputs": [],
   "source": [
    "def roc(y_true, probabilities, thresholds):\n",
    "    true_positive_rates = []\n",
    "    false_positive_rates = []\n",
    "    \n",
    "    for t in thresholds:\n",
    "        # apply the threshold\n",
    "        y_pred = apply_threshold(probabilities, t)\n",
    "        # calculate important data\n",
    "        tp, tn, fp, fn = calculate_confusion_matrix(y_true, y_pred)\n",
    "        # calculate precision and recall and append them to the corresponding list\n",
    "        true_positive_rates.append(tp/(tp + fn))\n",
    "        false_positive_rates.append(fp/(fp + tn))\n",
    "        \n",
    "    return true_positive_rates, false_positive_rates"
   ]
  },
  {
   "cell_type": "code",
   "execution_count": 123,
   "id": "7ce36e4e",
   "metadata": {},
   "outputs": [],
   "source": [
    "thresholds = [0.2, 0.25, 0.35, 0.4, 0.45, 0.5, 0.6, 0.65, 0.7, 0.85, 0.9]\n",
    "\n",
    "true_positive_rates, false_positive_rates = roc(y_true, model_output_probabilities, thresholds)"
   ]
  },
  {
   "cell_type": "code",
   "execution_count": 125,
   "id": "521336a5",
   "metadata": {},
   "outputs": [
    {
     "data": {
      "image/png": "[encoded data removed]",
      "text/plain": [
       "<Figure size 700x500 with 1 Axes>"
      ]
     },
     "metadata": {},
     "output_type": "display_data"
    }
   ],
   "source": [
    "plt.figure(figsize=(7, 5))\n",
    "plt.plot(false_positive_rates , true_positive_rates, marker='.')\n",
    "plt.xlabel('FPR')\n",
    "plt.ylabel('TPR')\n",
    "plt.title('ROC curve')\n",
    "plt.grid()\n",
    "plt.show()"
   ]
  },
  {
   "cell_type": "markdown",
   "id": "fe459fc9",
   "metadata": {},
   "source": [
    "<a name=\"3.3\"></a>\n",
    "### <font color='#2874a6'> 3.3. Calculation using ScikitLearn </font>"
   ]
  },
  {
   "cell_type": "markdown",
   "id": "e479fdf7",
   "metadata": {},
   "source": [
    "### Confusion matrix"
   ]
  },
  {
   "cell_type": "code",
   "execution_count": 67,
   "id": "12216953",
   "metadata": {},
   "outputs": [
    {
     "data": {
      "text/plain": [
       "array([[2, 2],\n",
       "       [1, 5]])"
      ]
     },
     "execution_count": 67,
     "metadata": {},
     "output_type": "execute_result"
    }
   ],
   "source": [
    "cm = confusion_matrix(y_true, y_pred)\n",
    "cm"
   ]
  },
  {
   "cell_type": "markdown",
   "id": "aa7da791",
   "metadata": {},
   "source": [
    "Note that in ScikitLearn the confusion matrix is:\n",
    "\n",
    "```\n",
    "TN FP\n",
    "\n",
    "FN TP\n",
    "```"
   ]
  },
  {
   "cell_type": "code",
   "execution_count": 68,
   "id": "db107e16",
   "metadata": {},
   "outputs": [
    {
     "data": {
      "image/png": "[encoded data removed]",
      "text/plain": [
       "<Figure size 640x480 with 2 Axes>"
      ]
     },
     "metadata": {},
     "output_type": "display_data"
    }
   ],
   "source": [
    "# display\n",
    "disp = ConfusionMatrixDisplay(confusion_matrix=cm)\n",
    "disp.plot()\n",
    "plt.show()"
   ]
  },
  {
   "cell_type": "code",
   "execution_count": 69,
   "id": "8687fb58",
   "metadata": {},
   "outputs": [
    {
     "data": {
      "text/plain": [
       "array([2, 2, 1, 5])"
      ]
     },
     "execution_count": 69,
     "metadata": {},
     "output_type": "execute_result"
    }
   ],
   "source": [
    "# ravel\n",
    "cm.ravel()"
   ]
  },
  {
   "cell_type": "markdown",
   "id": "1845599e",
   "metadata": {},
   "source": [
    "### Metrics"
   ]
  },
  {
   "cell_type": "code",
   "execution_count": 78,
   "id": "d36f2739",
   "metadata": {},
   "outputs": [],
   "source": [
    "def calculate_metrics(y_true, y_pred):\n",
    "    \"\"\"\n",
    "    Calculate various classification metrics for binary classification.\n",
    "\n",
    "    This function computes the following metrics based on true and predicted labels:\n",
    "    - Accuracy\n",
    "    - Precision\n",
    "    - Recall\n",
    "    - False Positive Rate (FPR)\n",
    "    - F1 Score\n",
    "    - F0.5 Score (F-beta with beta=0.5)\n",
    "    - F2 Score (F-beta with beta=2)\n",
    "\n",
    "    Parameters:\n",
    "    y_true (array-like): True binary labels.\n",
    "    y_pred (array-like): Predicted binary labels.\n",
    "\n",
    "    Returns:\n",
    "    tuple: A tuple containing the calculated metrics in the following order:\n",
    "        (accuracy, precision, recall, false_positive_rate, f1_score, f0_5_score, f2_score)\n",
    "    \"\"\"\n",
    "    # Calculate confusion matrix\n",
    "    tn, fp, fn, tp = confusion_matrix(y_true, y_pred).ravel()\n",
    "    # Metrics\n",
    "    accuracy = accuracy_score(y_true, y_pred)\n",
    "    precision = precision_score(y_true, y_pred, zero_division=1)\n",
    "    recall = recall_score(y_true, y_pred, zero_division=1)\n",
    "    fpr = fp / (fp + tn) if (fp + tn) > 0 else 0  # False Positive Rate\n",
    "    f1 = f1_score(y_true, y_pred)\n",
    "    f0_5 = fbeta_score(y_true, y_pred, beta=0.5)\n",
    "    f2 = fbeta_score(y_true, y_pred, beta=2)\n",
    "    # return\n",
    "    return accuracy, precision, recall, fpr, f1, f0_5, f2\n",
    "    \n",
    "    "
   ]
  },
  {
   "cell_type": "code",
   "execution_count": 79,
   "id": "2ccf4f63",
   "metadata": {},
   "outputs": [
    {
     "name": "stdout",
     "output_type": "stream",
     "text": [
      "Accuracy: 0.7\n",
      "Precision: 0.7142857142857143\n",
      "Recall: 0.8333333333333334\n",
      "False Positive Rate (FPR): 0.5\n",
      "F1-score: 0.7692307692307692\n",
      "F0.5-score: 0.7352941176470589\n",
      "F2-score: 0.8064516129032258\n"
     ]
    }
   ],
   "source": [
    "accuracy, precision, recall, fpr, f1, f0_5, f2 = calculate_metrics(y_true, y_pred)\n",
    "\n",
    "print(f\"Accuracy: {accuracy}\")\n",
    "print(f\"Precision: {precision}\")\n",
    "print(f\"Recall: {recall}\")\n",
    "print(f\"False Positive Rate (FPR): {fpr}\")\n",
    "print(f\"F1-score: {f1}\")\n",
    "print(f\"F0.5-score: {f0_5}\")\n",
    "print(f\"F2-score: {f2}\")"
   ]
  },
  {
   "cell_type": "markdown",
   "id": "b5b368da",
   "metadata": {},
   "source": [
    "### Precision-recall curve"
   ]
  },
  {
   "cell_type": "markdown",
   "id": "946248e7",
   "metadata": {},
   "source": [
    "We will use [Precision_Recall curve](https://scikit-learn.org/stable/modules/generated/sklearn.metrics.precision_recall_curve.html)\n",
    "\n",
    "\n",
    "sklearn.metrics.precision_recall_curve(y_true, y_score=None, *, pos_label=None, sample_weight=None, drop_intermediate=False, probas_pred='deprecated')\n",
    "\n",
    "The most important parameters are:\n",
    "\n",
    "- y_true\n",
    "     - array-like of shape (n_samples,)\n",
    "     - True binary labels. If labels are not either {-1, 1} or {0, 1}, then pos_label should be explicitly given.\n",
    "\n",
    "- y_score\n",
    "    - array-like of shape (n_samples,)\n",
    "    - Target scores, can either be probability estimates of the positive class, or non-thresholded measure of decisions (as returned by decision_function on some classifiers). For decision_function scores, values greater than or equal to zero should indicate the positive class.\n"
   ]
  },
  {
   "cell_type": "code",
   "execution_count": 82,
   "id": "19581981",
   "metadata": {},
   "outputs": [
    {
     "data": {
      "image/png": "[encoded data removed]",
      "text/plain": [
       "<Figure size 700x500 with 1 Axes>"
      ]
     },
     "metadata": {},
     "output_type": "display_data"
    }
   ],
   "source": [
    "# Compute precision-recall curve; note that the second parameter paased are probabilities\n",
    "precision, recall, thresholds = precision_recall_curve(y_true, model_output_probabilities)\n",
    "\n",
    "# Compute AUC for reference\n",
    "pr_auc = auc(recall, precision)\n",
    "\n",
    "# Plot Precision-Recall curve\n",
    "plt.figure(figsize=(7, 5))\n",
    "plt.plot(recall, precision, marker='.', label=f'PR Curve (AUC={pr_auc:.2f})', color='b')\n",
    "plt.xlabel('Recall')\n",
    "plt.ylabel('Precision')\n",
    "plt.title('Precision-Recall Curve')\n",
    "plt.legend()\n",
    "plt.grid()\n",
    "plt.show()"
   ]
  },
  {
   "cell_type": "markdown",
   "id": "6a94f5ac",
   "metadata": {},
   "source": [
    "### ROC curve"
   ]
  },
  {
   "cell_type": "code",
   "execution_count": 83,
   "id": "0e86ed7b",
   "metadata": {},
   "outputs": [
    {
     "data": {
      "image/png": "[encoded data removed]",
      "text/plain": [
       "<Figure size 700x500 with 1 Axes>"
      ]
     },
     "metadata": {},
     "output_type": "display_data"
    }
   ],
   "source": [
    "# Compute ROC curve\n",
    "fpr, tpr, thresholds = roc_curve(y_true, model_output_probabilities)\n",
    "\n",
    "# Compute AUC for reference\n",
    "roc_auc = auc(fpr, tpr)\n",
    "\n",
    "# Plot ROC curve\n",
    "plt.figure(figsize=(7, 5))\n",
    "plt.plot(fpr, tpr, marker='.', label=f'ROC Curve (AUC={roc_auc:.2f})', color='b')\n",
    "plt.plot([0, 1], [0, 1], linestyle='--', color='gray', label='Random Classifier (AUC=0.5)')\n",
    "plt.xlabel('False Positive Rate (FPR)')\n",
    "plt.ylabel('True Positive Rate (TPR)')\n",
    "plt.title('Receiver Operating Characteristic (ROC) Curve')\n",
    "plt.legend()\n",
    "plt.grid()\n",
    "plt.show()"
   ]
  },
  {
   "cell_type": "markdown",
   "id": "966a7fe2",
   "metadata": {},
   "source": [
    "<a name=\"4\"></a>\n",
    "## <font color='blue'> 4. Multi-class Classification </font>\n",
    "\n",
    "<a name=\"4.1\"></a>\n",
    "### <font color='#2874a6'> 4.1. Data </font>\n",
    "\n",
    "We will use synthetic data."
   ]
  },
  {
   "cell_type": "code",
   "execution_count": 88,
   "id": "cc8511bd",
   "metadata": {},
   "outputs": [],
   "source": [
    "y_true = np.array([1, 1, 1, 1, 1, 1, 1, 1, 1, 1, 1, 1, 1, 1, 1, 1, 1, 1, 1, 1, 1, 1,\n",
    "       1, 1, 1, 1, 1, 1, 1, 1, 1, 1, 1, 1, 1, 1, 1, 1, 1, 1, 1, 1, 1, 1,\n",
    "       1, 1, 1, 1, 1, 1, 1, 1, 1, 1, 1, 1, 1, 1, 1, 1, 1, 1, 1, 1, 1, 1,\n",
    "       1, 1, 1, 1, 1, 1, 1, 1, 1, 1, 1, 1, 1, 1, 1, 1, 1, 1, 1, 1, 1, 1,\n",
    "       1, 1, 1, 1, 1, 1, 1, 1, 1, 1, 1, 1, 1, 1, 1, 1, 1, 1, 1, 1, 1, 1,\n",
    "       1, 1, 1, 1, 1, 1, 1, 1, 1, 1, 1, 1, 1, 1, 1, 1, 1, 1, 1, 1, 1, 1,\n",
    "       1, 1, 1, 2, 2, 2, 2, 2, 2, 2, 2, 2, 2, 2, 2, 2, 2, 2, 2, 2, 2, 2,\n",
    "       2, 2, 2, 2, 2, 2, 2, 2, 2, 2, 2, 2, 2, 2, 2, 2, 2, 2, 2, 2, 2, 2,\n",
    "       2, 2, 2, 2, 2, 2, 2, 2, 2, 2, 2, 2, 2, 2, 2, 2, 2, 2, 2, 2, 2, 2,\n",
    "       2, 2, 2, 2, 2, 2, 2, 2, 2, 2, 2, 2, 2, 2, 2, 2, 2, 2, 2, 2, 2, 2,\n",
    "       2, 2, 2, 2, 2, 2, 2, 2, 2, 2, 2, 2, 2, 2, 2, 2, 2, 2, 2, 2, 2, 2,\n",
    "       2, 2, 2, 3, 3, 3, 3, 3, 3, 3, 3, 3, 3, 3, 3, 3, 3, 3, 3, 3, 3, 3,\n",
    "       3, 3, 3, 3, 3, 3, 3, 3, 3, 3, 3, 3, 3, 3, 3, 3, 3, 3, 3, 3, 3, 3,\n",
    "       3, 3, 3, 3, 3, 3, 3, 3, 3, 3, 3, 3, 3, 3, 3, 3, 3, 3, 3, 3, 3, 3,\n",
    "       3, 3, 3, 3, 3, 3, 3, 3, 3, 3, 3, 3, 3, 3, 3, 3, 3, 3, 3, 3, 3, 3,\n",
    "       3, 3, 3, 3, 3, 3, 3, 3, 3, 3, 3, 3, 3, 3, 3, 3, 3, 3, 3, 3, 3, 3,\n",
    "       3, 3, 3, 4, 4, 4, 4, 4, 4, 4, 4, 4, 4, 4, 4, 4, 4, 4, 4, 4, 4, 4,\n",
    "       4, 4, 4, 4, 4, 4, 4, 4, 4, 4, 4, 4, 4, 4, 4, 4, 4, 4, 4, 4, 4, 4,\n",
    "       4, 4, 4, 4, 4, 4, 4, 4, 4, 4, 4, 4, 4, 4, 4, 4, 4, 4, 4, 4, 4, 4,\n",
    "       4, 4, 4, 4, 4, 4, 4, 4, 4, 4, 4, 4, 4, 4, 4, 4, 4, 4, 4, 4, 4, 4,\n",
    "       4, 4, 4, 4, 4, 4, 4, 4, 4, 4, 4, 4, 4, 4, 4])"
   ]
  },
  {
   "cell_type": "code",
   "execution_count": 89,
   "id": "b83eec81",
   "metadata": {},
   "outputs": [],
   "source": [
    "y_pred = np.array([1, 1, 1, 1, 1, 1, 1, 1, 1, 1, 1, 1, 1, 1, 1, 1, 1, 1, 1, 1, 1, 1,\n",
    "       1, 1, 1, 1, 1, 1, 1, 1, 1, 1, 1, 1, 1, 1, 1, 1, 1, 1, 1, 1, 1, 1,\n",
    "       1, 1, 1, 1, 1, 1, 1, 1, 1, 1, 1, 1, 1, 1, 1, 1, 1, 1, 1, 1, 1, 1,\n",
    "       1, 1, 1, 1, 1, 1, 1, 1, 1, 1, 1, 1, 1, 1, 1, 1, 1, 1, 1, 1, 1, 1,\n",
    "       1, 1, 1, 1, 1, 1, 1, 1, 1, 1, 1, 1, 2, 2, 2, 2, 2, 2, 2, 2, 2, 2,\n",
    "       2, 2, 2, 2, 2, 2, 2, 2, 2, 2, 3, 3, 3, 3, 3, 3, 3, 3, 3, 3, 4, 4,\n",
    "       4, 4, 4, 1, 1, 1, 1, 1, 1, 1, 1, 1, 1, 1, 1, 1, 1, 1, 2, 2, 2, 2,\n",
    "       2, 2, 2, 2, 2, 2, 2, 2, 2, 2, 2, 2, 2, 2, 2, 2, 2, 2, 2, 2, 2, 2,\n",
    "       2, 2, 2, 2, 2, 2, 2, 2, 2, 2, 2, 2, 2, 2, 2, 2, 2, 2, 2, 2, 2, 2,\n",
    "       2, 2, 2, 2, 2, 2, 2, 2, 2, 2, 2, 2, 2, 2, 2, 2, 2, 2, 2, 2, 2, 2,\n",
    "       2, 2, 2, 2, 2, 2, 2, 2, 2, 2, 3, 3, 3, 3, 3, 4, 4, 4, 4, 4, 4, 4,\n",
    "       4, 4, 4, 1, 1, 1, 1, 1, 1, 1, 1, 1, 1, 2, 2, 2, 2, 2, 3, 3, 3, 3,\n",
    "       3, 3, 3, 3, 3, 3, 3, 3, 3, 3, 3, 3, 3, 3, 3, 3, 3, 3, 3, 3, 3, 3,\n",
    "       3, 3, 3, 3, 3, 3, 3, 3, 3, 3, 3, 3, 3, 3, 3, 3, 3, 3, 3, 3, 3, 3,\n",
    "       3, 3, 3, 3, 3, 3, 3, 3, 3, 3, 3, 3, 3, 3, 3, 3, 3, 3, 3, 3, 3, 3,\n",
    "       3, 3, 3, 3, 3, 3, 3, 3, 3, 3, 3, 3, 3, 3, 3, 3, 3, 3, 3, 3, 4, 4,\n",
    "       4, 4, 4, 1, 1, 1, 1, 1, 2, 2, 2, 2, 2, 2, 2, 2, 2, 2, 3, 3, 3, 3,\n",
    "       3, 4, 4, 4, 4, 4, 4, 4, 4, 4, 4, 4, 4, 4, 4, 4, 4, 4, 4, 4, 4, 4,\n",
    "       4, 4, 4, 4, 4, 4, 4, 4, 4, 4, 4, 4, 4, 4, 4, 4, 4, 4, 4, 4, 4, 4,\n",
    "       4, 4, 4, 4, 4, 4, 4, 4, 4, 4, 4, 4, 4, 4, 4, 4, 4, 4, 4, 4, 4, 4,\n",
    "       4, 4, 4, 4, 4, 4, 4, 4, 4, 4, 4, 4, 4, 4, 4])"
   ]
  },
  {
   "cell_type": "markdown",
   "id": "5cdabbfa",
   "metadata": {},
   "source": [
    "<a name=\"4.2\"></a>\n",
    "### <font color='#2874a6'> 4.2. Metrics </font>"
   ]
  },
  {
   "cell_type": "markdown",
   "id": "3d838219",
   "metadata": {},
   "source": [
    "### Confusion matrix"
   ]
  },
  {
   "cell_type": "code",
   "execution_count": 93,
   "id": "e26f1cea",
   "metadata": {},
   "outputs": [
    {
     "name": "stdout",
     "output_type": "stream",
     "text": [
      "Computed Confusion Matrix:\n",
      "[[100  20  10   5]\n",
      " [ 15  80   5  10]\n",
      " [ 10   5  90   5]\n",
      " [  5  10   5  80]]\n"
     ]
    }
   ],
   "source": [
    "# confusion matrix\n",
    "computed_conf_matrix = confusion_matrix(y_true, y_pred, labels=labels)\n",
    "print(\"Computed Confusion Matrix:\")\n",
    "print(computed_conf_matrix)"
   ]
  },
  {
   "cell_type": "markdown",
   "id": "cc9953ce",
   "metadata": {},
   "source": [
    "Let's plot the confusion matrix in a more friendly way:"
   ]
  },
  {
   "cell_type": "code",
   "execution_count": 94,
   "id": "5b3ccb80",
   "metadata": {},
   "outputs": [
    {
     "data": {
      "image/png": "[encoded data removed]",
      "text/plain": [
       "<Figure size 640x480 with 2 Axes>"
      ]
     },
     "metadata": {},
     "output_type": "display_data"
    }
   ],
   "source": [
    "class_names = [\"Class 0\", \"Class 1\", \"Class 2\", \"Class 3\"]\n",
    "\n",
    "cm = confusion_matrix(y_true, y_pred)\n",
    "disp = ConfusionMatrixDisplay(confusion_matrix=cm, display_labels=class_names)\n",
    "disp.plot()\n",
    "plt.title('Coinfusin matrix')\n",
    "\n",
    "# Make axis labels bold\n",
    "plt.xlabel(\"Predicted Labels\", fontsize=10, fontweight=\"bold\", labelpad=10)\n",
    "plt.ylabel(\"Actual Labels\", fontsize=10, fontweight=\"bold\", labelpad=10)\n",
    "plt.title(\"Confusion Matrix\",  fontweight=\"bold\", color='blue', pad=15)\n",
    "\n",
    "\n",
    "plt.show()"
   ]
  },
  {
   "cell_type": "markdown",
   "id": "8bc23364",
   "metadata": {},
   "source": [
    "### Other metrics\n",
    "\n",
    "First, lets' remember the formulas:"
   ]
  },
  {
   "cell_type": "code",
   "execution_count": 100,
   "id": "7c2f91d5",
   "metadata": {},
   "outputs": [],
   "source": [
    "def calculate_metrics_multiclass(y_true, y_pred, average):\n",
    "    \"\"\"\n",
    "    Calculate various classification metrics for multiclass classification.\n",
    "\n",
    "    This function computes the following metrics for multiclass classification:\n",
    "    - Accuracy\n",
    "    - Precision (macro/micro/weighted average, based on the 'average' parameter)\n",
    "    - Recall (macro/micro/weighted average, based on the 'average' parameter)\n",
    "    - F1 Score (macro/micro/weighted average, based on the 'average' parameter)\n",
    "    - F0.5 Score (F-beta with beta=0.5, macro/micro/weighted average)\n",
    "    - F2 Score (F-beta with beta=2, macro/micro/weighted average)\n",
    "    - False Positive Rate (FPR) (macro average across all classes)\n",
    "\n",
    "    Parameters:\n",
    "    y_true (array-like): True class labels.\n",
    "    y_pred (array-like): Predicted class labels.\n",
    "    average (str): The type of averaging to perform on metrics. Options are:\n",
    "                   'micro', 'macro', 'weighted', or None.\n",
    "\n",
    "    Returns:\n",
    "    tuple: A tuple containing the calculated metrics in the following order:\n",
    "           (accuracy, precision, recall, false_positive_rate, f1_score, f0_5_score, f2_score)\n",
    "    \"\"\"\n",
    "    # Calculate metrics\n",
    "    accuracy = accuracy_score(y_true, y_pred)\n",
    "    precision = precision_score(y_true, y_pred, average=average, zero_division=1)\n",
    "    recall = recall_score(y_true, y_pred, average=average, zero_division=1)\n",
    "    f1 = f1_score(y_true, y_pred, average=average)\n",
    "    f0_5 = fbeta_score(y_true, y_pred, beta=0.5, average=average)\n",
    "    f2 = fbeta_score(y_true, y_pred, beta=2, average=average)\n",
    "\n",
    "    # Calculate False Positive Rate (FPR) for each class\n",
    "    fp = conf_matrix.sum(axis=0) - np.diag(conf_matrix)  # False Positives per class\n",
    "    tn = conf_matrix.sum() - (conf_matrix.sum(axis=1) + conf_matrix.sum(axis=0) - np.diag(conf_matrix))  # True Negatives per class\n",
    "    fpr = (fp / (fp + tn)).mean()  # Macro-average FPR\n",
    "    \n",
    "    # return\n",
    "    return accuracy, precision, recall, fpr, f1, f0_5, f2\n",
    "    "
   ]
  },
  {
   "cell_type": "code",
   "execution_count": 101,
   "id": "5a088c62",
   "metadata": {},
   "outputs": [
    {
     "data": {
      "text/plain": [
       "(0.7692307692307693,\n",
       " 0.7707661903314078,\n",
       " 0.7715488215488215,\n",
       " 0.07737707950602163,\n",
       " 0.7710024776062513,\n",
       " 0.7708237456931712,\n",
       " 0.7712927989047391)"
      ]
     },
     "execution_count": 101,
     "metadata": {},
     "output_type": "execute_result"
    }
   ],
   "source": [
    "calculate_metrics_multiclass(y_true, y_pred, 'macro')"
   ]
  },
  {
   "cell_type": "code",
   "execution_count": 102,
   "id": "b18d23ea",
   "metadata": {},
   "outputs": [
    {
     "data": {
      "text/plain": [
       "(0.7692307692307693,\n",
       " 0.7692307692307693,\n",
       " 0.7692307692307693,\n",
       " 0.07737707950602163,\n",
       " 0.7692307692307693,\n",
       " 0.7692307692307693,\n",
       " 0.7692307692307693)"
      ]
     },
     "execution_count": 102,
     "metadata": {},
     "output_type": "execute_result"
    }
   ],
   "source": [
    "calculate_metrics_multiclass(y_true, y_pred, 'micro')"
   ]
  },
  {
   "cell_type": "code",
   "execution_count": 103,
   "id": "d6dbc9ab",
   "metadata": {},
   "outputs": [
    {
     "data": {
      "text/plain": [
       "(0.7692307692307693,\n",
       " 0.7700393252232717,\n",
       " 0.7692307692307693,\n",
       " 0.07737707950602163,\n",
       " 0.7694703619231921,\n",
       " 0.7697723463091081,\n",
       " 0.7692869185406499)"
      ]
     },
     "execution_count": 103,
     "metadata": {},
     "output_type": "execute_result"
    }
   ],
   "source": [
    "calculate_metrics_multiclass(y_true, y_pred, 'weighted')"
   ]
  },
  {
   "cell_type": "markdown",
   "id": "c323b394",
   "metadata": {},
   "source": [
    "<a name=\"references\"></a>\n",
    "## <font color='blue'> References </font>\n",
    "\n",
    "[ScikitLearn Documentation](https://scikit-learn.sourceforge.net/stable/documentation.html)"
   ]
  }
 ],
 "metadata": {
  "kernelspec": {
   "display_name": "Python 3 (ipykernel)",
   "language": "python",
   "name": "python3"
  },
  "language_info": {
   "codemirror_mode": {
    "name": "ipython",
    "version": 3
   },
   "file_extension": ".py",
   "mimetype": "text/x-python",
   "name": "python",
   "nbconvert_exporter": "python",
   "pygments_lexer": "ipython3",
   "version": "3.10.12"
  }
 },
 "nbformat": 4,
 "nbformat_minor": 5
}
