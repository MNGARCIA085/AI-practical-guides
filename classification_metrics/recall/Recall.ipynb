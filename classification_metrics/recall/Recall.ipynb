{
 "cells": [
  {
   "cell_type": "code",
   "execution_count": 9,
   "id": "1373d1c8",
   "metadata": {},
   "outputs": [],
   "source": [
    "import tensorflow as tf\n",
    "from tensorflow.keras import layers, models\n",
    "import numpy as np\n",
    "from sklearn.metrics import precision_score, recall_score, accuracy_score"
   ]
  },
  {
   "cell_type": "code",
   "execution_count": 22,
   "id": "8b73225d",
   "metadata": {},
   "outputs": [],
   "source": [
    "from sklearn.model_selection import train_test_split\n",
    "import numpy as np\n",
    "from sklearn.metrics import precision_score, recall_score, accuracy_score"
   ]
  },
  {
   "cell_type": "code",
   "execution_count": null,
   "id": "eb529ea8",
   "metadata": {},
   "outputs": [],
   "source": []
  },
  {
   "cell_type": "code",
   "execution_count": 1,
   "id": "b71495cf",
   "metadata": {},
   "outputs": [],
   "source": [
    "import pandas as pd"
   ]
  },
  {
   "cell_type": "code",
   "execution_count": 3,
   "id": "2588f6af",
   "metadata": {},
   "outputs": [
    {
     "name": "stdout",
     "output_type": "stream",
     "text": [
      "creditcard.csv\r\n"
     ]
    }
   ],
   "source": [
    "!ls data"
   ]
  },
  {
   "cell_type": "code",
   "execution_count": 4,
   "id": "df43e143",
   "metadata": {},
   "outputs": [],
   "source": [
    "data = pd.read_csv('data/creditcard.csv')"
   ]
  },
  {
   "cell_type": "code",
   "execution_count": 5,
   "id": "7af43952",
   "metadata": {},
   "outputs": [
    {
     "data": {
      "text/html": [
       "<div>\n",
       "<style scoped>\n",
       "    .dataframe tbody tr th:only-of-type {\n",
       "        vertical-align: middle;\n",
       "    }\n",
       "\n",
       "    .dataframe tbody tr th {\n",
       "        vertical-align: top;\n",
       "    }\n",
       "\n",
       "    .dataframe thead th {\n",
       "        text-align: right;\n",
       "    }\n",
       "</style>\n",
       "<table border=\"1\" class=\"dataframe\">\n",
       "  <thead>\n",
       "    <tr style=\"text-align: right;\">\n",
       "      <th></th>\n",
       "      <th>Time</th>\n",
       "      <th>V1</th>\n",
       "      <th>V2</th>\n",
       "      <th>V3</th>\n",
       "      <th>V4</th>\n",
       "      <th>V5</th>\n",
       "      <th>V6</th>\n",
       "      <th>V7</th>\n",
       "      <th>V8</th>\n",
       "      <th>V9</th>\n",
       "      <th>...</th>\n",
       "      <th>V21</th>\n",
       "      <th>V22</th>\n",
       "      <th>V23</th>\n",
       "      <th>V24</th>\n",
       "      <th>V25</th>\n",
       "      <th>V26</th>\n",
       "      <th>V27</th>\n",
       "      <th>V28</th>\n",
       "      <th>Amount</th>\n",
       "      <th>Class</th>\n",
       "    </tr>\n",
       "  </thead>\n",
       "  <tbody>\n",
       "    <tr>\n",
       "      <th>0</th>\n",
       "      <td>0.0</td>\n",
       "      <td>-1.359807</td>\n",
       "      <td>-0.072781</td>\n",
       "      <td>2.536347</td>\n",
       "      <td>1.378155</td>\n",
       "      <td>-0.338321</td>\n",
       "      <td>0.462388</td>\n",
       "      <td>0.239599</td>\n",
       "      <td>0.098698</td>\n",
       "      <td>0.363787</td>\n",
       "      <td>...</td>\n",
       "      <td>-0.018307</td>\n",
       "      <td>0.277838</td>\n",
       "      <td>-0.110474</td>\n",
       "      <td>0.066928</td>\n",
       "      <td>0.128539</td>\n",
       "      <td>-0.189115</td>\n",
       "      <td>0.133558</td>\n",
       "      <td>-0.021053</td>\n",
       "      <td>149.62</td>\n",
       "      <td>0</td>\n",
       "    </tr>\n",
       "    <tr>\n",
       "      <th>1</th>\n",
       "      <td>0.0</td>\n",
       "      <td>1.191857</td>\n",
       "      <td>0.266151</td>\n",
       "      <td>0.166480</td>\n",
       "      <td>0.448154</td>\n",
       "      <td>0.060018</td>\n",
       "      <td>-0.082361</td>\n",
       "      <td>-0.078803</td>\n",
       "      <td>0.085102</td>\n",
       "      <td>-0.255425</td>\n",
       "      <td>...</td>\n",
       "      <td>-0.225775</td>\n",
       "      <td>-0.638672</td>\n",
       "      <td>0.101288</td>\n",
       "      <td>-0.339846</td>\n",
       "      <td>0.167170</td>\n",
       "      <td>0.125895</td>\n",
       "      <td>-0.008983</td>\n",
       "      <td>0.014724</td>\n",
       "      <td>2.69</td>\n",
       "      <td>0</td>\n",
       "    </tr>\n",
       "    <tr>\n",
       "      <th>2</th>\n",
       "      <td>1.0</td>\n",
       "      <td>-1.358354</td>\n",
       "      <td>-1.340163</td>\n",
       "      <td>1.773209</td>\n",
       "      <td>0.379780</td>\n",
       "      <td>-0.503198</td>\n",
       "      <td>1.800499</td>\n",
       "      <td>0.791461</td>\n",
       "      <td>0.247676</td>\n",
       "      <td>-1.514654</td>\n",
       "      <td>...</td>\n",
       "      <td>0.247998</td>\n",
       "      <td>0.771679</td>\n",
       "      <td>0.909412</td>\n",
       "      <td>-0.689281</td>\n",
       "      <td>-0.327642</td>\n",
       "      <td>-0.139097</td>\n",
       "      <td>-0.055353</td>\n",
       "      <td>-0.059752</td>\n",
       "      <td>378.66</td>\n",
       "      <td>0</td>\n",
       "    </tr>\n",
       "    <tr>\n",
       "      <th>3</th>\n",
       "      <td>1.0</td>\n",
       "      <td>-0.966272</td>\n",
       "      <td>-0.185226</td>\n",
       "      <td>1.792993</td>\n",
       "      <td>-0.863291</td>\n",
       "      <td>-0.010309</td>\n",
       "      <td>1.247203</td>\n",
       "      <td>0.237609</td>\n",
       "      <td>0.377436</td>\n",
       "      <td>-1.387024</td>\n",
       "      <td>...</td>\n",
       "      <td>-0.108300</td>\n",
       "      <td>0.005274</td>\n",
       "      <td>-0.190321</td>\n",
       "      <td>-1.175575</td>\n",
       "      <td>0.647376</td>\n",
       "      <td>-0.221929</td>\n",
       "      <td>0.062723</td>\n",
       "      <td>0.061458</td>\n",
       "      <td>123.50</td>\n",
       "      <td>0</td>\n",
       "    </tr>\n",
       "    <tr>\n",
       "      <th>4</th>\n",
       "      <td>2.0</td>\n",
       "      <td>-1.158233</td>\n",
       "      <td>0.877737</td>\n",
       "      <td>1.548718</td>\n",
       "      <td>0.403034</td>\n",
       "      <td>-0.407193</td>\n",
       "      <td>0.095921</td>\n",
       "      <td>0.592941</td>\n",
       "      <td>-0.270533</td>\n",
       "      <td>0.817739</td>\n",
       "      <td>...</td>\n",
       "      <td>-0.009431</td>\n",
       "      <td>0.798278</td>\n",
       "      <td>-0.137458</td>\n",
       "      <td>0.141267</td>\n",
       "      <td>-0.206010</td>\n",
       "      <td>0.502292</td>\n",
       "      <td>0.219422</td>\n",
       "      <td>0.215153</td>\n",
       "      <td>69.99</td>\n",
       "      <td>0</td>\n",
       "    </tr>\n",
       "  </tbody>\n",
       "</table>\n",
       "<p>5 rows × 31 columns</p>\n",
       "</div>"
      ],
      "text/plain": [
       "   Time        V1        V2        V3        V4        V5        V6        V7  \\\n",
       "0   0.0 -1.359807 -0.072781  2.536347  1.378155 -0.338321  0.462388  0.239599   \n",
       "1   0.0  1.191857  0.266151  0.166480  0.448154  0.060018 -0.082361 -0.078803   \n",
       "2   1.0 -1.358354 -1.340163  1.773209  0.379780 -0.503198  1.800499  0.791461   \n",
       "3   1.0 -0.966272 -0.185226  1.792993 -0.863291 -0.010309  1.247203  0.237609   \n",
       "4   2.0 -1.158233  0.877737  1.548718  0.403034 -0.407193  0.095921  0.592941   \n",
       "\n",
       "         V8        V9  ...       V21       V22       V23       V24       V25  \\\n",
       "0  0.098698  0.363787  ... -0.018307  0.277838 -0.110474  0.066928  0.128539   \n",
       "1  0.085102 -0.255425  ... -0.225775 -0.638672  0.101288 -0.339846  0.167170   \n",
       "2  0.247676 -1.514654  ...  0.247998  0.771679  0.909412 -0.689281 -0.327642   \n",
       "3  0.377436 -1.387024  ... -0.108300  0.005274 -0.190321 -1.175575  0.647376   \n",
       "4 -0.270533  0.817739  ... -0.009431  0.798278 -0.137458  0.141267 -0.206010   \n",
       "\n",
       "        V26       V27       V28  Amount  Class  \n",
       "0 -0.189115  0.133558 -0.021053  149.62      0  \n",
       "1  0.125895 -0.008983  0.014724    2.69      0  \n",
       "2 -0.139097 -0.055353 -0.059752  378.66      0  \n",
       "3 -0.221929  0.062723  0.061458  123.50      0  \n",
       "4  0.502292  0.219422  0.215153   69.99      0  \n",
       "\n",
       "[5 rows x 31 columns]"
      ]
     },
     "execution_count": 5,
     "metadata": {},
     "output_type": "execute_result"
    }
   ],
   "source": [
    "data.head()"
   ]
  },
  {
   "cell_type": "code",
   "execution_count": 6,
   "id": "ce9d3a32",
   "metadata": {},
   "outputs": [],
   "source": [
    "# vsss result form pcb to protect clients identity"
   ]
  },
  {
   "cell_type": "code",
   "execution_count": 7,
   "id": "f4d3b482",
   "metadata": {},
   "outputs": [],
   "source": [
    "# see balance"
   ]
  },
  {
   "cell_type": "code",
   "execution_count": 13,
   "id": "9605e608",
   "metadata": {},
   "outputs": [],
   "source": [
    "# Last column\n",
    "y = data.iloc[:, -1]\n",
    "\n",
    "# Columns from second to the last (excluding the last one)\n",
    "X = data.iloc[:, 1:-1]"
   ]
  },
  {
   "cell_type": "code",
   "execution_count": 14,
   "id": "5e2ff15f",
   "metadata": {},
   "outputs": [
    {
     "data": {
      "text/html": [
       "<div>\n",
       "<style scoped>\n",
       "    .dataframe tbody tr th:only-of-type {\n",
       "        vertical-align: middle;\n",
       "    }\n",
       "\n",
       "    .dataframe tbody tr th {\n",
       "        vertical-align: top;\n",
       "    }\n",
       "\n",
       "    .dataframe thead th {\n",
       "        text-align: right;\n",
       "    }\n",
       "</style>\n",
       "<table border=\"1\" class=\"dataframe\">\n",
       "  <thead>\n",
       "    <tr style=\"text-align: right;\">\n",
       "      <th></th>\n",
       "      <th>V1</th>\n",
       "      <th>V2</th>\n",
       "      <th>V3</th>\n",
       "      <th>V4</th>\n",
       "      <th>V5</th>\n",
       "      <th>V6</th>\n",
       "      <th>V7</th>\n",
       "      <th>V8</th>\n",
       "      <th>V9</th>\n",
       "      <th>V10</th>\n",
       "      <th>...</th>\n",
       "      <th>V20</th>\n",
       "      <th>V21</th>\n",
       "      <th>V22</th>\n",
       "      <th>V23</th>\n",
       "      <th>V24</th>\n",
       "      <th>V25</th>\n",
       "      <th>V26</th>\n",
       "      <th>V27</th>\n",
       "      <th>V28</th>\n",
       "      <th>Amount</th>\n",
       "    </tr>\n",
       "  </thead>\n",
       "  <tbody>\n",
       "    <tr>\n",
       "      <th>0</th>\n",
       "      <td>-1.359807</td>\n",
       "      <td>-0.072781</td>\n",
       "      <td>2.536347</td>\n",
       "      <td>1.378155</td>\n",
       "      <td>-0.338321</td>\n",
       "      <td>0.462388</td>\n",
       "      <td>0.239599</td>\n",
       "      <td>0.098698</td>\n",
       "      <td>0.363787</td>\n",
       "      <td>0.090794</td>\n",
       "      <td>...</td>\n",
       "      <td>0.251412</td>\n",
       "      <td>-0.018307</td>\n",
       "      <td>0.277838</td>\n",
       "      <td>-0.110474</td>\n",
       "      <td>0.066928</td>\n",
       "      <td>0.128539</td>\n",
       "      <td>-0.189115</td>\n",
       "      <td>0.133558</td>\n",
       "      <td>-0.021053</td>\n",
       "      <td>149.62</td>\n",
       "    </tr>\n",
       "    <tr>\n",
       "      <th>1</th>\n",
       "      <td>1.191857</td>\n",
       "      <td>0.266151</td>\n",
       "      <td>0.166480</td>\n",
       "      <td>0.448154</td>\n",
       "      <td>0.060018</td>\n",
       "      <td>-0.082361</td>\n",
       "      <td>-0.078803</td>\n",
       "      <td>0.085102</td>\n",
       "      <td>-0.255425</td>\n",
       "      <td>-0.166974</td>\n",
       "      <td>...</td>\n",
       "      <td>-0.069083</td>\n",
       "      <td>-0.225775</td>\n",
       "      <td>-0.638672</td>\n",
       "      <td>0.101288</td>\n",
       "      <td>-0.339846</td>\n",
       "      <td>0.167170</td>\n",
       "      <td>0.125895</td>\n",
       "      <td>-0.008983</td>\n",
       "      <td>0.014724</td>\n",
       "      <td>2.69</td>\n",
       "    </tr>\n",
       "    <tr>\n",
       "      <th>2</th>\n",
       "      <td>-1.358354</td>\n",
       "      <td>-1.340163</td>\n",
       "      <td>1.773209</td>\n",
       "      <td>0.379780</td>\n",
       "      <td>-0.503198</td>\n",
       "      <td>1.800499</td>\n",
       "      <td>0.791461</td>\n",
       "      <td>0.247676</td>\n",
       "      <td>-1.514654</td>\n",
       "      <td>0.207643</td>\n",
       "      <td>...</td>\n",
       "      <td>0.524980</td>\n",
       "      <td>0.247998</td>\n",
       "      <td>0.771679</td>\n",
       "      <td>0.909412</td>\n",
       "      <td>-0.689281</td>\n",
       "      <td>-0.327642</td>\n",
       "      <td>-0.139097</td>\n",
       "      <td>-0.055353</td>\n",
       "      <td>-0.059752</td>\n",
       "      <td>378.66</td>\n",
       "    </tr>\n",
       "    <tr>\n",
       "      <th>3</th>\n",
       "      <td>-0.966272</td>\n",
       "      <td>-0.185226</td>\n",
       "      <td>1.792993</td>\n",
       "      <td>-0.863291</td>\n",
       "      <td>-0.010309</td>\n",
       "      <td>1.247203</td>\n",
       "      <td>0.237609</td>\n",
       "      <td>0.377436</td>\n",
       "      <td>-1.387024</td>\n",
       "      <td>-0.054952</td>\n",
       "      <td>...</td>\n",
       "      <td>-0.208038</td>\n",
       "      <td>-0.108300</td>\n",
       "      <td>0.005274</td>\n",
       "      <td>-0.190321</td>\n",
       "      <td>-1.175575</td>\n",
       "      <td>0.647376</td>\n",
       "      <td>-0.221929</td>\n",
       "      <td>0.062723</td>\n",
       "      <td>0.061458</td>\n",
       "      <td>123.50</td>\n",
       "    </tr>\n",
       "    <tr>\n",
       "      <th>4</th>\n",
       "      <td>-1.158233</td>\n",
       "      <td>0.877737</td>\n",
       "      <td>1.548718</td>\n",
       "      <td>0.403034</td>\n",
       "      <td>-0.407193</td>\n",
       "      <td>0.095921</td>\n",
       "      <td>0.592941</td>\n",
       "      <td>-0.270533</td>\n",
       "      <td>0.817739</td>\n",
       "      <td>0.753074</td>\n",
       "      <td>...</td>\n",
       "      <td>0.408542</td>\n",
       "      <td>-0.009431</td>\n",
       "      <td>0.798278</td>\n",
       "      <td>-0.137458</td>\n",
       "      <td>0.141267</td>\n",
       "      <td>-0.206010</td>\n",
       "      <td>0.502292</td>\n",
       "      <td>0.219422</td>\n",
       "      <td>0.215153</td>\n",
       "      <td>69.99</td>\n",
       "    </tr>\n",
       "  </tbody>\n",
       "</table>\n",
       "<p>5 rows × 29 columns</p>\n",
       "</div>"
      ],
      "text/plain": [
       "         V1        V2        V3        V4        V5        V6        V7  \\\n",
       "0 -1.359807 -0.072781  2.536347  1.378155 -0.338321  0.462388  0.239599   \n",
       "1  1.191857  0.266151  0.166480  0.448154  0.060018 -0.082361 -0.078803   \n",
       "2 -1.358354 -1.340163  1.773209  0.379780 -0.503198  1.800499  0.791461   \n",
       "3 -0.966272 -0.185226  1.792993 -0.863291 -0.010309  1.247203  0.237609   \n",
       "4 -1.158233  0.877737  1.548718  0.403034 -0.407193  0.095921  0.592941   \n",
       "\n",
       "         V8        V9       V10  ...       V20       V21       V22       V23  \\\n",
       "0  0.098698  0.363787  0.090794  ...  0.251412 -0.018307  0.277838 -0.110474   \n",
       "1  0.085102 -0.255425 -0.166974  ... -0.069083 -0.225775 -0.638672  0.101288   \n",
       "2  0.247676 -1.514654  0.207643  ...  0.524980  0.247998  0.771679  0.909412   \n",
       "3  0.377436 -1.387024 -0.054952  ... -0.208038 -0.108300  0.005274 -0.190321   \n",
       "4 -0.270533  0.817739  0.753074  ...  0.408542 -0.009431  0.798278 -0.137458   \n",
       "\n",
       "        V24       V25       V26       V27       V28  Amount  \n",
       "0  0.066928  0.128539 -0.189115  0.133558 -0.021053  149.62  \n",
       "1 -0.339846  0.167170  0.125895 -0.008983  0.014724    2.69  \n",
       "2 -0.689281 -0.327642 -0.139097 -0.055353 -0.059752  378.66  \n",
       "3 -1.175575  0.647376 -0.221929  0.062723  0.061458  123.50  \n",
       "4  0.141267 -0.206010  0.502292  0.219422  0.215153   69.99  \n",
       "\n",
       "[5 rows x 29 columns]"
      ]
     },
     "execution_count": 14,
     "metadata": {},
     "output_type": "execute_result"
    }
   ],
   "source": [
    "X.head()"
   ]
  },
  {
   "cell_type": "code",
   "execution_count": 15,
   "id": "7c41e431",
   "metadata": {},
   "outputs": [
    {
     "data": {
      "text/plain": [
       "0         0\n",
       "1         0\n",
       "2         0\n",
       "3         0\n",
       "4         0\n",
       "         ..\n",
       "284802    0\n",
       "284803    0\n",
       "284804    0\n",
       "284805    0\n",
       "284806    0\n",
       "Name: Class, Length: 284807, dtype: int64"
      ]
     },
     "execution_count": 15,
     "metadata": {},
     "output_type": "execute_result"
    }
   ],
   "source": [
    "y"
   ]
  },
  {
   "cell_type": "code",
   "execution_count": 19,
   "id": "a3cc0c8b",
   "metadata": {},
   "outputs": [],
   "source": [
    "# Split data into training and testing sets (80% train, 20% test)\n",
    "X_train, X_test, y_train, y_test = train_test_split(X, y, test_size=0.2, random_state=42)\n",
    "\n",
    "#print(\"Training Features (X_train):\")\n",
    "#print(X_train)"
   ]
  },
  {
   "cell_type": "code",
   "execution_count": null,
   "id": "5929e5e8",
   "metadata": {},
   "outputs": [],
   "source": []
  },
  {
   "cell_type": "code",
   "execution_count": null,
   "id": "6a13a890",
   "metadata": {},
   "outputs": [],
   "source": []
  },
  {
   "cell_type": "code",
   "execution_count": null,
   "id": "4a50fe95",
   "metadata": {},
   "outputs": [],
   "source": []
  },
  {
   "cell_type": "code",
   "execution_count": null,
   "id": "fe4b406a",
   "metadata": {},
   "outputs": [],
   "source": []
  },
  {
   "cell_type": "code",
   "execution_count": null,
   "id": "1951da46",
   "metadata": {},
   "outputs": [],
   "source": []
  },
  {
   "cell_type": "code",
   "execution_count": null,
   "id": "9f7173e6",
   "metadata": {},
   "outputs": [],
   "source": []
  },
  {
   "cell_type": "code",
   "execution_count": null,
   "id": "b227e377",
   "metadata": {},
   "outputs": [],
   "source": []
  },
  {
   "cell_type": "code",
   "execution_count": null,
   "id": "811ce1b5",
   "metadata": {},
   "outputs": [],
   "source": []
  },
  {
   "cell_type": "code",
   "execution_count": null,
   "id": "fd794ad5",
   "metadata": {},
   "outputs": [],
   "source": []
  },
  {
   "cell_type": "code",
   "execution_count": null,
   "id": "f6d597db",
   "metadata": {},
   "outputs": [],
   "source": []
  },
  {
   "cell_type": "code",
   "execution_count": null,
   "id": "72b38acf",
   "metadata": {},
   "outputs": [],
   "source": []
  },
  {
   "cell_type": "code",
   "execution_count": null,
   "id": "7a2bc9a6",
   "metadata": {},
   "outputs": [],
   "source": []
  },
  {
   "cell_type": "markdown",
   "id": "5e7ab8fc",
   "metadata": {},
   "source": [
    "### change the threshodl\n",
    "\n",
    "\n",
    "train the model\n",
    "\n",
    "\n",
    "after the model is trained, change the threshold"
   ]
  },
  {
   "cell_type": "code",
   "execution_count": null,
   "id": "e5af2849",
   "metadata": {},
   "outputs": [],
   "source": []
  },
  {
   "cell_type": "code",
   "execution_count": null,
   "id": "8c5553df",
   "metadata": {},
   "outputs": [],
   "source": []
  },
  {
   "cell_type": "code",
   "execution_count": 51,
   "id": "f83b269e",
   "metadata": {},
   "outputs": [],
   "source": [
    "def f2_metric(y_true, y_pred):\n",
    "    y_pred_bin = K.round(y_pred)  # Convert probabilities to binary predictions\n",
    "\n",
    "    tp = K.sum(K.cast(y_true * y_pred_bin, 'float'), axis=0)\n",
    "    fp = K.sum(K.cast((1 - y_true) * y_pred_bin, 'float'), axis=0)\n",
    "    fn = K.sum(K.cast(y_true * (1 - y_pred_bin), 'float'), axis=0)\n",
    "\n",
    "    precision = tp / (tp + fp + K.epsilon())  # Avoid division by zero\n",
    "    recall = tp / (tp + fn + K.epsilon())\n",
    "\n",
    "    beta = 2\n",
    "    f2 = (1 + beta**2) * (precision * recall) / (beta**2 * precision + recall + K.epsilon())\n",
    "    return f2"
   ]
  },
  {
   "cell_type": "code",
   "execution_count": 53,
   "id": "5fc29188",
   "metadata": {},
   "outputs": [
    {
     "name": "stdout",
     "output_type": "stream",
     "text": [
      "Epoch 1/10\n",
      "7121/7121 [==============================] - 10s 1ms/step - loss: 0.0219 - accuracy: 0.9989 - f2_metric: 0.0357 - val_loss: 0.0082 - val_accuracy: 0.9994 - val_f2_metric: 0.0421\n",
      "Epoch 2/10\n",
      "7121/7121 [==============================] - 9s 1ms/step - loss: 0.0123 - accuracy: 0.9993 - f2_metric: 0.0389 - val_loss: 0.0050 - val_accuracy: 0.9994 - val_f2_metric: 0.0438\n",
      "Epoch 3/10\n",
      "7121/7121 [==============================] - 10s 1ms/step - loss: 0.0059 - accuracy: 0.9993 - f2_metric: 0.0400 - val_loss: 0.0097 - val_accuracy: 0.9988 - val_f2_metric: 0.0174\n",
      "Epoch 4/10\n",
      "7121/7121 [==============================] - 11s 1ms/step - loss: 0.0045 - accuracy: 0.9993 - f2_metric: 0.0399 - val_loss: 0.0045 - val_accuracy: 0.9994 - val_f2_metric: 0.0421\n",
      "Epoch 5/10\n",
      "7121/7121 [==============================] - 11s 1ms/step - loss: 0.0043 - accuracy: 0.9993 - f2_metric: 0.0393 - val_loss: 0.0094 - val_accuracy: 0.9992 - val_f2_metric: 0.0314\n",
      "Epoch 6/10\n",
      "7121/7121 [==============================] - 10s 1ms/step - loss: 0.0041 - accuracy: 0.9994 - f2_metric: 0.0396 - val_loss: 0.0047 - val_accuracy: 0.9994 - val_f2_metric: 0.0410\n",
      "Epoch 7/10\n",
      "7121/7121 [==============================] - 9s 1ms/step - loss: 0.0039 - accuracy: 0.9994 - f2_metric: 0.0417 - val_loss: 0.0039 - val_accuracy: 0.9993 - val_f2_metric: 0.0421\n",
      "Epoch 8/10\n",
      "7121/7121 [==============================] - 12s 2ms/step - loss: 0.0037 - accuracy: 0.9995 - f2_metric: 0.0418 - val_loss: 0.0040 - val_accuracy: 0.9994 - val_f2_metric: 0.0452\n",
      "Epoch 9/10\n",
      "7121/7121 [==============================] - 9s 1ms/step - loss: 0.0035 - accuracy: 0.9995 - f2_metric: 0.0415 - val_loss: 0.0038 - val_accuracy: 0.9994 - val_f2_metric: 0.0435\n",
      "Epoch 10/10\n",
      "7121/7121 [==============================] - 9s 1ms/step - loss: 0.0040 - accuracy: 0.9995 - f2_metric: 0.0417 - val_loss: 0.0040 - val_accuracy: 0.9994 - val_f2_metric: 0.0452\n"
     ]
    },
    {
     "data": {
      "text/plain": [
       "<keras.src.callbacks.History at 0x7a9410323910>"
      ]
     },
     "execution_count": 53,
     "metadata": {},
     "output_type": "execute_result"
    }
   ],
   "source": [
    "from tensorflow.keras import backend as K\n",
    "\n",
    "\n",
    "\n",
    "# Build a simple neural network model\n",
    "model = models.Sequential([\n",
    "    layers.Dense(64, activation='relu', input_shape=(X_train.shape[1],)),\n",
    "    layers.Dense(32, activation='relu'),\n",
    "    layers.Dense(1, activation='sigmoid')  # Binary output (fraud or not fraud)\n",
    "])\n",
    "\n",
    "# Compile the model with binary cross-entropy loss and custom metrics\n",
    "model.compile(optimizer='adam',\n",
    "              loss='binary_crossentropy',\n",
    "              metrics=['accuracy', f2_metric])\n",
    "\n",
    "# Train the model\n",
    "model.fit(X_train, y_train, validation_data=(X_test, y_test), epochs=10, batch_size=32)\n"
   ]
  },
  {
   "cell_type": "code",
   "execution_count": null,
   "id": "3c605c01",
   "metadata": {},
   "outputs": [],
   "source": []
  },
  {
   "cell_type": "code",
   "execution_count": null,
   "id": "11dd0753",
   "metadata": {},
   "outputs": [],
   "source": []
  },
  {
   "cell_type": "code",
   "execution_count": null,
   "id": "93c5ca0f",
   "metadata": {},
   "outputs": [],
   "source": []
  },
  {
   "cell_type": "code",
   "execution_count": null,
   "id": "8bad8750",
   "metadata": {},
   "outputs": [],
   "source": []
  },
  {
   "cell_type": "code",
   "execution_count": null,
   "id": "fec15878",
   "metadata": {},
   "outputs": [],
   "source": [
    "veamos ahora las metrcias para diferentes thresholds"
   ]
  },
  {
   "cell_type": "code",
   "execution_count": 24,
   "id": "d6c037bb",
   "metadata": {},
   "outputs": [
    {
     "name": "stdout",
     "output_type": "stream",
     "text": [
      "1781/1781 [==============================] - 1s 780us/step\n",
      "Threshold: 0.1\n",
      "Precision: 0.7810\n",
      "Recall: 0.8367\n",
      "Accuracy: 0.9993\n",
      "------------------------------\n",
      "Threshold: 0.3\n",
      "Precision: 0.8298\n",
      "Recall: 0.7959\n",
      "Accuracy: 0.9994\n",
      "------------------------------\n",
      "Threshold: 0.4\n",
      "Precision: 0.8478\n",
      "Recall: 0.7959\n",
      "Accuracy: 0.9994\n",
      "------------------------------\n",
      "Threshold: 0.7\n",
      "Precision: 0.8824\n",
      "Recall: 0.7653\n",
      "Accuracy: 0.9994\n",
      "------------------------------\n",
      "Threshold: 0.9\n",
      "Precision: 0.9194\n",
      "Recall: 0.5816\n",
      "Accuracy: 0.9992\n",
      "------------------------------\n"
     ]
    }
   ],
   "source": [
    "\n",
    "\n",
    "# Make predictions on test data\n",
    "y_pred_probs = model.predict(X_test)  # Predicted probabilities\n",
    "\n",
    "# Apply different thresholds for evaluation\n",
    "thresholds = [0.1, 0.3, 0.4, 0.7, 0.9]  # Example threshold values\n",
    "for threshold in thresholds:\n",
    "    y_pred_bin = (y_pred_probs > threshold).astype(int)  # Convert to binary labels based on threshold\n",
    "    \n",
    "    # Evaluate metrics\n",
    "    precision = precision_score(y_test, y_pred_bin)\n",
    "    recall = recall_score(y_test, y_pred_bin)\n",
    "    accuracy = accuracy_score(y_test, y_pred_bin)\n",
    "    \n",
    "    print(f\"Threshold: {threshold}\")\n",
    "    print(f\"Precision: {precision:.4f}\")\n",
    "    print(f\"Recall: {recall:.4f}\")\n",
    "    print(f\"Accuracy: {accuracy:.4f}\")\n",
    "    print(\"-\" * 30)"
   ]
  },
  {
   "cell_type": "code",
   "execution_count": 27,
   "id": "3c4b96b4",
   "metadata": {},
   "outputs": [
    {
     "name": "stdout",
     "output_type": "stream",
     "text": [
      "1781/1781 [==============================] - 1s 777us/step\n"
     ]
    },
    {
     "data": {
      "image/png": "[encoded data removed]",
      "text/plain": [
       "<Figure size 800x600 with 1 Axes>"
      ]
     },
     "metadata": {},
     "output_type": "display_data"
    }
   ],
   "source": [
    "from sklearn.metrics import precision_recall_curve\n",
    "import matplotlib.pyplot as plt\n",
    "\n",
    "# Make predictions on test data (probabilities)\n",
    "y_pred_probs = model.predict(X_test)\n",
    "\n",
    "# Calculate precision and recall for all thresholds\n",
    "precision, recall, thresholds_prc = precision_recall_curve(y_test, y_pred_probs)\n",
    "\n",
    "# Plot the precision-recall curve\n",
    "plt.figure(figsize=(8, 6))\n",
    "plt.plot(recall, precision, color='blue', label='Precision-Recall curve')\n",
    "plt.xlabel('Recall')\n",
    "plt.ylabel('Precision')\n",
    "plt.title('Precision-Recall Curve')\n",
    "plt.grid(True)\n",
    "plt.legend(loc='best')\n",
    "plt.show()"
   ]
  },
  {
   "cell_type": "code",
   "execution_count": 31,
   "id": "eb53b393",
   "metadata": {},
   "outputs": [
    {
     "data": {
      "text/plain": [
       "(array([0.00172045, 0.00172051, 0.00172054, ..., 1.        , 1.        ,\n",
       "        1.        ]),\n",
       " array([1.        , 1.        , 1.        , ..., 0.06122449, 0.05102041,\n",
       "        0.        ]),\n",
       " 0.9)"
      ]
     },
     "execution_count": 31,
     "metadata": {},
     "output_type": "execute_result"
    }
   ],
   "source": [
    "precision, recall, threshold"
   ]
  },
  {
   "cell_type": "code",
   "execution_count": 33,
   "id": "5ad38072",
   "metadata": {},
   "outputs": [
    {
     "name": "stdout",
     "output_type": "stream",
     "text": [
      "Recall: 0.86, Precision: 0.50, Threshold: 0.02476321905851364\n",
      "Recall: 0.86, Precision: 0.50, Threshold: 0.02696467749774456\n",
      "Recall: 0.86, Precision: 0.51, Threshold: 0.027137016877532005\n",
      "Recall: 0.86, Precision: 0.51, Threshold: 0.027413437142968178\n",
      "Recall: 0.86, Precision: 0.51, Threshold: 0.02773837186396122\n",
      "Recall: 0.86, Precision: 0.52, Threshold: 0.028103992342948914\n",
      "Recall: 0.86, Precision: 0.52, Threshold: 0.028440380468964577\n",
      "Recall: 0.86, Precision: 0.52, Threshold: 0.028470702469348907\n",
      "Recall: 0.86, Precision: 0.53, Threshold: 0.028799831867218018\n",
      "Recall: 0.86, Precision: 0.53, Threshold: 0.029229413717985153\n",
      "Recall: 0.86, Precision: 0.53, Threshold: 0.029276637360453606\n",
      "Recall: 0.86, Precision: 0.54, Threshold: 0.031670961529016495\n",
      "Recall: 0.86, Precision: 0.54, Threshold: 0.032969310879707336\n",
      "Recall: 0.86, Precision: 0.54, Threshold: 0.03347226604819298\n",
      "Recall: 0.86, Precision: 0.55, Threshold: 0.03352546691894531\n",
      "Recall: 0.86, Precision: 0.55, Threshold: 0.03434576466679573\n",
      "Recall: 0.86, Precision: 0.55, Threshold: 0.034376733005046844\n",
      "Recall: 0.86, Precision: 0.56, Threshold: 0.03484043478965759\n",
      "Recall: 0.86, Precision: 0.56, Threshold: 0.03500710055232048\n",
      "Recall: 0.86, Precision: 0.56, Threshold: 0.03558468446135521\n",
      "Recall: 0.86, Precision: 0.57, Threshold: 0.0357067808508873\n",
      "Recall: 0.86, Precision: 0.57, Threshold: 0.03649725764989853\n",
      "Recall: 0.86, Precision: 0.58, Threshold: 0.036739248782396317\n",
      "Recall: 0.86, Precision: 0.58, Threshold: 0.039579689502716064\n",
      "Recall: 0.86, Precision: 0.58, Threshold: 0.0397450290620327\n",
      "Recall: 0.86, Precision: 0.59, Threshold: 0.04017089307308197\n",
      "Recall: 0.86, Precision: 0.59, Threshold: 0.04035984352231026\n",
      "Recall: 0.86, Precision: 0.60, Threshold: 0.04071999713778496\n",
      "Recall: 0.86, Precision: 0.60, Threshold: 0.04074440151453018\n",
      "Recall: 0.86, Precision: 0.60, Threshold: 0.04108453169465065\n",
      "Recall: 0.86, Precision: 0.61, Threshold: 0.043043624609708786\n",
      "Recall: 0.86, Precision: 0.61, Threshold: 0.04369451478123665\n",
      "Recall: 0.85, Precision: 0.61, Threshold: 0.04409603029489517\n",
      "Recall: 0.85, Precision: 0.61, Threshold: 0.044471513479948044\n",
      "Recall: 0.85, Precision: 0.62, Threshold: 0.0445832759141922\n",
      "Recall: 0.85, Precision: 0.62, Threshold: 0.04672359675168991\n",
      "Recall: 0.84, Precision: 0.62, Threshold: 0.04927759990096092\n",
      "Recall: 0.84, Precision: 0.63, Threshold: 0.04941718280315399\n",
      "Recall: 0.84, Precision: 0.63, Threshold: 0.05110706016421318\n",
      "Recall: 0.84, Precision: 0.64, Threshold: 0.051462624222040176\n",
      "Recall: 0.84, Precision: 0.64, Threshold: 0.051946189254522324\n",
      "Recall: 0.84, Precision: 0.65, Threshold: 0.05255938321352005\n",
      "Recall: 0.84, Precision: 0.65, Threshold: 0.05543646961450577\n",
      "Recall: 0.84, Precision: 0.66, Threshold: 0.05569100007414818\n",
      "Recall: 0.84, Precision: 0.66, Threshold: 0.05657918006181717\n",
      "Recall: 0.84, Precision: 0.67, Threshold: 0.05887763574719429\n",
      "Recall: 0.84, Precision: 0.67, Threshold: 0.059374965727329254\n",
      "Recall: 0.84, Precision: 0.68, Threshold: 0.06261059641838074\n",
      "Recall: 0.84, Precision: 0.68, Threshold: 0.06390698999166489\n",
      "Recall: 0.84, Precision: 0.69, Threshold: 0.06398225575685501\n",
      "Recall: 0.84, Precision: 0.69, Threshold: 0.06574727594852448\n",
      "Recall: 0.84, Precision: 0.70, Threshold: 0.06913784891366959\n",
      "Recall: 0.84, Precision: 0.71, Threshold: 0.07070367783308029\n",
      "Recall: 0.84, Precision: 0.71, Threshold: 0.07279643416404724\n",
      "Recall: 0.84, Precision: 0.72, Threshold: 0.07341743260622025\n",
      "Recall: 0.84, Precision: 0.73, Threshold: 0.07733019441366196\n",
      "Recall: 0.84, Precision: 0.73, Threshold: 0.08408336341381073\n",
      "Recall: 0.84, Precision: 0.74, Threshold: 0.08633434027433395\n",
      "Recall: 0.84, Precision: 0.75, Threshold: 0.08900079131126404\n",
      "Recall: 0.84, Precision: 0.75, Threshold: 0.09062284976243973\n",
      "Recall: 0.84, Precision: 0.76, Threshold: 0.09291849285364151\n",
      "Recall: 0.84, Precision: 0.77, Threshold: 0.0953846201300621\n",
      "Recall: 0.84, Precision: 0.77, Threshold: 0.09746289998292923\n",
      "Recall: 0.84, Precision: 0.78, Threshold: 0.10943764448165894\n",
      "Recall: 0.84, Precision: 0.79, Threshold: 0.11172198504209518\n",
      "Recall: 0.83, Precision: 0.79, Threshold: 0.11197853088378906\n",
      "Recall: 0.82, Precision: 0.78, Threshold: 0.1159413605928421\n",
      "Recall: 0.81, Precision: 0.78, Threshold: 0.11930789798498154\n",
      "Recall: 0.81, Precision: 0.79, Threshold: 0.15934740006923676\n",
      "Recall: 0.81, Precision: 0.80, Threshold: 0.18429310619831085\n"
     ]
    }
   ],
   "source": [
    "\n",
    "\n",
    "# Define the thresholds for recall > 0.8 and precision > 0.5\n",
    "recall_threshold = 0.8\n",
    "precision_threshold = 0.5\n",
    "\n",
    "# Filter the recall and precision values based on the conditions\n",
    "indices = np.where((recall >= recall_threshold) & (precision >= precision_threshold))[0]\n",
    "\n",
    "# Get the corresponding precision, recall, and thresholds for these conditions\n",
    "precision_above_threshold = precision[indices]\n",
    "recall_above_threshold = recall[indices]\n",
    "thresholds_above_threshold = thresholds_prc[indices] if len(thresholds_prc) > len(indices) else 'N/A'\n",
    "\n",
    "# Print the results\n",
    "for r, p, t in zip(recall_above_threshold, precision_above_threshold, thresholds_above_threshold):\n",
    "    print(f\"Recall: {r:.2f}, Precision: {p:.2f}, Threshold: {t if t != 'N/A' else 'N/A'}\")\n"
   ]
  },
  {
   "cell_type": "markdown",
   "id": "ccfd8c11",
   "metadata": {},
   "source": [
    "Low Threshold: If your focus is on maximizing recall (catching as many fraudulent transactions as possible), choose a threshold close to 0. This will give you higher recall but lower precision.\n",
    "Optimal Threshold: The optimal threshold can be determined by analyzing the precision-recall curve and selecting the threshold that gives you the best F2 score or recall while keeping precision at an acceptable level."
   ]
  },
  {
   "cell_type": "code",
   "execution_count": null,
   "id": "ac5e1d1f",
   "metadata": {},
   "outputs": [],
   "source": []
  },
  {
   "cell_type": "code",
   "execution_count": null,
   "id": "34100e54",
   "metadata": {},
   "outputs": [],
   "source": []
  },
  {
   "cell_type": "code",
   "execution_count": null,
   "id": "9827a676",
   "metadata": {},
   "outputs": [],
   "source": []
  },
  {
   "cell_type": "markdown",
   "id": "57d8d308",
   "metadata": {},
   "source": [
    "### changing the loss function\n",
    "\n",
    "Adjust class weights to encourage the model to focus on fraud cases even more."
   ]
  },
  {
   "cell_type": "code",
   "execution_count": 38,
   "id": "2e3e9111",
   "metadata": {},
   "outputs": [],
   "source": [
    "def weighted_binary_crossentropy(y_true, y_pred, weight_0=1.0, weight_1=10.0):\n",
    "    y_true = tf.cast(y_true, tf.float32)  # Ensure y_true is float32\n",
    "    epsilon = tf.keras.backend.epsilon()\n",
    "    y_pred = tf.clip_by_value(y_pred, epsilon, 1. - epsilon)  # To avoid log(0)\n",
    "    \n",
    "    # Calculate standard binary crossentropy\n",
    "    bce = - (y_true * tf.math.log(y_pred) + (1 - y_true) * tf.math.log(1 - y_pred))\n",
    "    \n",
    "    # Apply class weights\n",
    "    weighted_bce = weight_0 * (1 - y_true) * bce + weight_1 * y_true * bce\n",
    "    \n",
    "    return tf.reduce_mean(weighted_bce)\n",
    "\n",
    "# Build a simple neural network model\n",
    "model = tf.keras.Sequential([\n",
    "    tf.keras.layers.Dense(64, activation='relu', input_shape=(X_train.shape[1],)),\n",
    "    tf.keras.layers.Dense(32, activation='relu'),\n",
    "    tf.keras.layers.Dense(1, activation='sigmoid')  # Binary output (fraud or not fraud)\n",
    "])\n",
    "\n",
    "# Compile the model with the custom weighted binary crossentropy\n",
    "model.compile(optimizer='adam',\n",
    "              loss=lambda y_true, y_pred: weighted_binary_crossentropy(y_true, y_pred, weight_0=1.0, weight_1=10.0),\n",
    "              metrics=['accuracy'])"
   ]
  },
  {
   "cell_type": "code",
   "execution_count": 39,
   "id": "ceca07fa",
   "metadata": {},
   "outputs": [
    {
     "name": "stdout",
     "output_type": "stream",
     "text": [
      "Epoch 1/10\n"
     ]
    },
    {
     "name": "stderr",
     "output_type": "stream",
     "text": [
      "2025-02-03 19:01:21.650907: W external/local_tsl/tsl/framework/cpu_allocator_impl.cc:83] Allocation of 52860040 exceeds 10% of free system memory.\n"
     ]
    },
    {
     "name": "stdout",
     "output_type": "stream",
     "text": [
      "7121/7121 [==============================] - 11s 1ms/step - loss: 0.0718 - accuracy: 0.9981 - val_loss: 0.0694 - val_accuracy: 0.9991\n",
      "Epoch 2/10\n",
      "7121/7121 [==============================] - 10s 1ms/step - loss: 0.0436 - accuracy: 0.9989 - val_loss: 0.0416 - val_accuracy: 0.9992\n",
      "Epoch 3/10\n",
      "7121/7121 [==============================] - 10s 1ms/step - loss: 0.0373 - accuracy: 0.9989 - val_loss: 0.0453 - val_accuracy: 0.9991\n",
      "Epoch 4/10\n",
      "7121/7121 [==============================] - 10s 1ms/step - loss: 0.0341 - accuracy: 0.9986 - val_loss: 0.0404 - val_accuracy: 0.9993\n",
      "Epoch 5/10\n",
      "7121/7121 [==============================] - 10s 1ms/step - loss: 0.0285 - accuracy: 0.9989 - val_loss: 0.0370 - val_accuracy: 0.9992\n",
      "Epoch 6/10\n",
      "7121/7121 [==============================] - 10s 1ms/step - loss: 0.0279 - accuracy: 0.9987 - val_loss: 0.0449 - val_accuracy: 0.9991\n",
      "Epoch 7/10\n",
      "7121/7121 [==============================] - 9s 1ms/step - loss: 0.0274 - accuracy: 0.9991 - val_loss: 0.0366 - val_accuracy: 0.9992\n",
      "Epoch 8/10\n",
      "7121/7121 [==============================] - 10s 1ms/step - loss: 0.0271 - accuracy: 0.9993 - val_loss: 0.0417 - val_accuracy: 0.9993\n",
      "Epoch 9/10\n",
      "7121/7121 [==============================] - 10s 1ms/step - loss: 0.0273 - accuracy: 0.9992 - val_loss: 0.0337 - val_accuracy: 0.9992\n",
      "Epoch 10/10\n",
      "7121/7121 [==============================] - 10s 1ms/step - loss: 0.0244 - accuracy: 0.9992 - val_loss: 0.0357 - val_accuracy: 0.9992\n"
     ]
    },
    {
     "data": {
      "text/plain": [
       "<keras.src.callbacks.History at 0x7a941c09eef0>"
      ]
     },
     "execution_count": 39,
     "metadata": {},
     "output_type": "execute_result"
    }
   ],
   "source": [
    "\n",
    "# Train the model\n",
    "model.fit(X_train, y_train, validation_data=(X_test, y_test), epochs=10, batch_size=32)"
   ]
  },
  {
   "cell_type": "code",
   "execution_count": 40,
   "id": "7476a1cb",
   "metadata": {},
   "outputs": [
    {
     "name": "stdout",
     "output_type": "stream",
     "text": [
      "1781/1781 [==============================] - 1s 800us/step\n",
      "Threshold: 0.1\n",
      "Precision: 0.4432\n",
      "Recall: 0.8367\n",
      "Accuracy: 0.9979\n",
      "------------------------------\n",
      "Threshold: 0.3\n",
      "Precision: 0.6667\n",
      "Recall: 0.8367\n",
      "Accuracy: 0.9990\n",
      "------------------------------\n",
      "Threshold: 0.4\n",
      "Precision: 0.7168\n",
      "Recall: 0.8265\n",
      "Accuracy: 0.9991\n",
      "------------------------------\n",
      "Threshold: 0.7\n",
      "Precision: 0.8163\n",
      "Recall: 0.8163\n",
      "Accuracy: 0.9994\n",
      "------------------------------\n",
      "Threshold: 0.9\n",
      "Precision: 0.8462\n",
      "Recall: 0.7857\n",
      "Accuracy: 0.9994\n",
      "------------------------------\n"
     ]
    }
   ],
   "source": [
    "# Make predictions on test data\n",
    "y_pred_probs = model.predict(X_test)  # Predicted probabilities\n",
    "\n",
    "# Apply different thresholds for evaluation\n",
    "thresholds = [0.1, 0.3, 0.4, 0.7, 0.9]  # Example threshold values\n",
    "for threshold in thresholds:\n",
    "    y_pred_bin = (y_pred_probs > threshold).astype(int)  # Convert to binary labels based on threshold\n",
    "    \n",
    "    # Evaluate metrics\n",
    "    precision = precision_score(y_test, y_pred_bin)\n",
    "    recall = recall_score(y_test, y_pred_bin)\n",
    "    accuracy = accuracy_score(y_test, y_pred_bin)\n",
    "    \n",
    "    print(f\"Threshold: {threshold}\")\n",
    "    print(f\"Precision: {precision:.4f}\")\n",
    "    print(f\"Recall: {recall:.4f}\")\n",
    "    print(f\"Accuracy: {accuracy:.4f}\")\n",
    "    print(\"-\" * 30)"
   ]
  },
  {
   "cell_type": "code",
   "execution_count": null,
   "id": "665db207",
   "metadata": {},
   "outputs": [],
   "source": []
  },
  {
   "cell_type": "markdown",
   "id": "fe4b7f8c",
   "metadata": {},
   "source": [
    "the previous as approach is the same as using class weights:"
   ]
  },
  {
   "cell_type": "code",
   "execution_count": null,
   "id": "f5dbf300",
   "metadata": {},
   "outputs": [],
   "source": []
  },
  {
   "cell_type": "code",
   "execution_count": null,
   "id": "bb1addbb",
   "metadata": {},
   "outputs": [],
   "source": []
  },
  {
   "cell_type": "code",
   "execution_count": 48,
   "id": "bd82e7b3",
   "metadata": {},
   "outputs": [
    {
     "name": "stdout",
     "output_type": "stream",
     "text": [
      "Epoch 1/10\n",
      "7121/7121 [==============================] - 10s 1ms/step - loss: 0.1425 - accuracy: 0.9950 - val_loss: 0.0079 - val_accuracy: 0.9993\n",
      "Epoch 2/10\n",
      "7121/7121 [==============================] - 10s 1ms/step - loss: 0.0514 - accuracy: 0.9978 - val_loss: 0.0067 - val_accuracy: 0.9992\n",
      "Epoch 3/10\n",
      "7121/7121 [==============================] - 10s 1ms/step - loss: 0.0355 - accuracy: 0.9982 - val_loss: 0.0123 - val_accuracy: 0.9991\n",
      "Epoch 4/10\n",
      "7121/7121 [==============================] - 10s 1ms/step - loss: 0.0248 - accuracy: 0.9991 - val_loss: 0.0060 - val_accuracy: 0.9993\n",
      "Epoch 5/10\n",
      "7121/7121 [==============================] - 10s 1ms/step - loss: 0.0239 - accuracy: 0.9991 - val_loss: 0.0211 - val_accuracy: 0.9992\n",
      "Epoch 6/10\n",
      "7121/7121 [==============================] - 10s 1ms/step - loss: 0.0198 - accuracy: 0.9993 - val_loss: 0.0085 - val_accuracy: 0.9994\n",
      "Epoch 7/10\n",
      "7121/7121 [==============================] - 10s 1ms/step - loss: 0.0203 - accuracy: 0.9993 - val_loss: 0.0053 - val_accuracy: 0.9994\n",
      "Epoch 8/10\n",
      "7121/7121 [==============================] - 10s 1ms/step - loss: 0.0187 - accuracy: 0.9993 - val_loss: 0.0058 - val_accuracy: 0.9993\n",
      "Epoch 9/10\n",
      "7121/7121 [==============================] - 10s 1ms/step - loss: 0.0196 - accuracy: 0.9994 - val_loss: 0.0045 - val_accuracy: 0.9993\n",
      "Epoch 10/10\n",
      "7121/7121 [==============================] - 11s 1ms/step - loss: 0.0193 - accuracy: 0.9993 - val_loss: 0.0042 - val_accuracy: 0.9993\n"
     ]
    },
    {
     "data": {
      "text/plain": [
       "<keras.src.callbacks.History at 0x7a941212cee0>"
      ]
     },
     "execution_count": 48,
     "metadata": {},
     "output_type": "execute_result"
    }
   ],
   "source": [
    "\n",
    "\n",
    "\n",
    "\n",
    "# Build a simple neural network model\n",
    "model = tf.keras.Sequential([\n",
    "    tf.keras.layers.Dense(64, activation='relu', input_shape=(X_train.shape[1],)),\n",
    "    tf.keras.layers.Dense(32, activation='relu'),\n",
    "    tf.keras.layers.Dense(1, activation='sigmoid')  # Binary output (fraud or not fraud)\n",
    "])\n",
    "\n",
    "# Compile the model with the custom weighted binary crossentropy\n",
    "model.compile(optimizer='adam',\n",
    "              loss='binary_crossentropy',\n",
    "              metrics=['accuracy'])\n",
    "\n",
    "\n",
    "class_weight = {0: 1., 1: 10.}  # Higher weight for the positive class\n",
    "\n",
    "\n",
    "model.fit(X_train, y_train,  validation_data=(X_test, y_test), epochs=10, batch_size=32, class_weight=class_weight)"
   ]
  },
  {
   "cell_type": "code",
   "execution_count": 49,
   "id": "ee0ddccf",
   "metadata": {},
   "outputs": [
    {
     "name": "stdout",
     "output_type": "stream",
     "text": [
      "1781/1781 [==============================] - 2s 828us/step\n",
      "Threshold: 0.1\n",
      "Precision: 0.6667\n",
      "Recall: 0.8163\n",
      "Accuracy: 0.9990\n",
      "------------------------------\n",
      "Threshold: 0.3\n",
      "Precision: 0.7453\n",
      "Recall: 0.8061\n",
      "Accuracy: 0.9992\n",
      "------------------------------\n",
      "Threshold: 0.4\n",
      "Precision: 0.7700\n",
      "Recall: 0.7857\n",
      "Accuracy: 0.9992\n",
      "------------------------------\n",
      "Threshold: 0.7\n",
      "Precision: 0.8295\n",
      "Recall: 0.7449\n",
      "Accuracy: 0.9993\n",
      "------------------------------\n",
      "Threshold: 0.9\n",
      "Precision: 0.8906\n",
      "Recall: 0.5816\n",
      "Accuracy: 0.9992\n",
      "------------------------------\n"
     ]
    }
   ],
   "source": [
    "# Make predictions on test data\n",
    "y_pred_probs = model.predict(X_test)  # Predicted probabilities\n",
    "\n",
    "# Apply different thresholds for evaluation\n",
    "thresholds = [0.1, 0.3, 0.4, 0.7, 0.9]  # Example threshold values\n",
    "for threshold in thresholds:\n",
    "    y_pred_bin = (y_pred_probs > threshold).astype(int)  # Convert to binary labels based on threshold\n",
    "    \n",
    "    # Evaluate metrics\n",
    "    precision = precision_score(y_test, y_pred_bin)\n",
    "    recall = recall_score(y_test, y_pred_bin)\n",
    "    accuracy = accuracy_score(y_test, y_pred_bin)\n",
    "    \n",
    "    print(f\"Threshold: {threshold}\")\n",
    "    print(f\"Precision: {precision:.4f}\")\n",
    "    print(f\"Recall: {recall:.4f}\")\n",
    "    print(f\"Accuracy: {accuracy:.4f}\")\n",
    "    print(\"-\" * 30)"
   ]
  },
  {
   "cell_type": "code",
   "execution_count": null,
   "id": "0db7bc8e",
   "metadata": {},
   "outputs": [],
   "source": []
  },
  {
   "cell_type": "code",
   "execution_count": null,
   "id": "4c0bf8d1",
   "metadata": {},
   "outputs": [],
   "source": []
  },
  {
   "cell_type": "code",
   "execution_count": null,
   "id": "a2ec811c",
   "metadata": {},
   "outputs": [],
   "source": []
  },
  {
   "cell_type": "code",
   "execution_count": null,
   "id": "dc1853ae",
   "metadata": {},
   "outputs": [],
   "source": []
  },
  {
   "cell_type": "markdown",
   "id": "2b72c20a",
   "metadata": {},
   "source": [
    "### Focal loss\n",
    "\n",
    "Focal Loss is an extension of cross-entropy that helps focus more on hard-to-classify examples, typically improving recall without sacrificing precision too much, especially for imbalanced datasets."
   ]
  },
  {
   "cell_type": "code",
   "execution_count": null,
   "id": "f128884f",
   "metadata": {},
   "outputs": [],
   "source": []
  },
  {
   "cell_type": "code",
   "execution_count": 44,
   "id": "66d018f1",
   "metadata": {},
   "outputs": [],
   "source": [
    "def focal_loss(gamma=2., alpha=0.25):\n",
    "    def focal_loss_fixed(y_true, y_pred):\n",
    "        y_true = tf.cast(y_true, tf.float32)\n",
    "        epsilon = tf.keras.backend.epsilon()\n",
    "        y_pred = tf.clip_by_value(y_pred, epsilon, 1. - epsilon)\n",
    "        cross_entropy = -y_true * tf.math.log(y_pred)\n",
    "        loss = alpha * tf.pow(1 - y_pred, gamma) * cross_entropy\n",
    "        return tf.reduce_mean(loss)\n",
    "    return focal_loss_fixed"
   ]
  },
  {
   "cell_type": "code",
   "execution_count": 45,
   "id": "86aae648",
   "metadata": {},
   "outputs": [],
   "source": [
    "# Build a simple neural network model\n",
    "model = tf.keras.Sequential([\n",
    "    tf.keras.layers.Dense(64, activation='relu', input_shape=(X_train.shape[1],)),\n",
    "    tf.keras.layers.Dense(32, activation='relu'),\n",
    "    tf.keras.layers.Dense(1, activation='sigmoid')  # Binary output (fraud or not fraud)\n",
    "])\n",
    "\n",
    "# Compile the model with the custom weighted binary crossentropy\n",
    "model.compile(optimizer='adam',\n",
    "              loss=focal_loss(),\n",
    "              metrics=['accuracy'])"
   ]
  },
  {
   "cell_type": "code",
   "execution_count": 46,
   "id": "5890273d",
   "metadata": {},
   "outputs": [
    {
     "name": "stdout",
     "output_type": "stream",
     "text": [
      "Epoch 1/10\n",
      "7121/7121 [==============================] - 10s 1ms/step - loss: 6.6100e-07 - accuracy: 0.0022 - val_loss: 1.1299e-11 - val_accuracy: 0.0017\n",
      "Epoch 2/10\n",
      "7121/7121 [==============================] - 9s 1ms/step - loss: 8.1553e-11 - accuracy: 0.0017 - val_loss: 4.7179e-12 - val_accuracy: 0.0017\n",
      "Epoch 3/10\n",
      "7121/7121 [==============================] - 9s 1ms/step - loss: 3.1437e-11 - accuracy: 0.0017 - val_loss: 2.5651e-12 - val_accuracy: 0.0017\n",
      "Epoch 4/10\n",
      "7121/7121 [==============================] - 9s 1ms/step - loss: 1.7373e-11 - accuracy: 0.0017 - val_loss: 1.7069e-12 - val_accuracy: 0.0017\n",
      "Epoch 5/10\n",
      "7121/7121 [==============================] - 9s 1ms/step - loss: 1.1850e-11 - accuracy: 0.0017 - val_loss: 1.2832e-12 - val_accuracy: 0.0017\n",
      "Epoch 6/10\n",
      "7121/7121 [==============================] - 9s 1ms/step - loss: 8.9624e-12 - accuracy: 0.0017 - val_loss: 1.0302e-12 - val_accuracy: 0.0017\n",
      "Epoch 7/10\n",
      "7121/7121 [==============================] - 9s 1ms/step - loss: 7.1895e-12 - accuracy: 0.0017 - val_loss: 8.6243e-13 - val_accuracy: 0.0017\n",
      "Epoch 8/10\n",
      "7121/7121 [==============================] - 9s 1ms/step - loss: 5.9955e-12 - accuracy: 0.0017 - val_loss: 7.4266e-13 - val_accuracy: 0.0017\n",
      "Epoch 9/10\n",
      "7121/7121 [==============================] - 9s 1ms/step - loss: 5.1342e-12 - accuracy: 0.0017 - val_loss: 6.5293e-13 - val_accuracy: 0.0017\n",
      "Epoch 10/10\n",
      "7121/7121 [==============================] - 11s 2ms/step - loss: 4.4861e-12 - accuracy: 0.0017 - val_loss: 5.8267e-13 - val_accuracy: 0.0017\n"
     ]
    },
    {
     "data": {
      "text/plain": [
       "<keras.src.callbacks.History at 0x7a94135379d0>"
      ]
     },
     "execution_count": 46,
     "metadata": {},
     "output_type": "execute_result"
    }
   ],
   "source": [
    "# Train the model\n",
    "model.fit(X_train, y_train, validation_data=(X_test, y_test), epochs=10, batch_size=32)"
   ]
  },
  {
   "cell_type": "code",
   "execution_count": 47,
   "id": "750c9266",
   "metadata": {},
   "outputs": [
    {
     "name": "stdout",
     "output_type": "stream",
     "text": [
      "1781/1781 [==============================] - 2s 807us/step\n",
      "Threshold: 0.1\n",
      "Precision: 0.0017\n",
      "Recall: 1.0000\n",
      "Accuracy: 0.0017\n",
      "------------------------------\n",
      "Threshold: 0.3\n",
      "Precision: 0.0017\n",
      "Recall: 1.0000\n",
      "Accuracy: 0.0017\n",
      "------------------------------\n",
      "Threshold: 0.4\n",
      "Precision: 0.0017\n",
      "Recall: 1.0000\n",
      "Accuracy: 0.0017\n",
      "------------------------------\n",
      "Threshold: 0.7\n",
      "Precision: 0.0017\n",
      "Recall: 1.0000\n",
      "Accuracy: 0.0017\n",
      "------------------------------\n",
      "Threshold: 0.9\n",
      "Precision: 0.0017\n",
      "Recall: 1.0000\n",
      "Accuracy: 0.0018\n",
      "------------------------------\n"
     ]
    }
   ],
   "source": [
    "# Make predictions on test data\n",
    "y_pred_probs = model.predict(X_test)  # Predicted probabilities\n",
    "\n",
    "# Apply different thresholds for evaluation\n",
    "thresholds = [0.1, 0.3, 0.4, 0.7, 0.9]  # Example threshold values\n",
    "for threshold in thresholds:\n",
    "    y_pred_bin = (y_pred_probs > threshold).astype(int)  # Convert to binary labels based on threshold\n",
    "    \n",
    "    # Evaluate metrics\n",
    "    precision = precision_score(y_test, y_pred_bin)\n",
    "    recall = recall_score(y_test, y_pred_bin)\n",
    "    accuracy = accuracy_score(y_test, y_pred_bin)\n",
    "    \n",
    "    print(f\"Threshold: {threshold}\")\n",
    "    print(f\"Precision: {precision:.4f}\")\n",
    "    print(f\"Recall: {recall:.4f}\")\n",
    "    print(f\"Accuracy: {accuracy:.4f}\")\n",
    "    print(\"-\" * 30)"
   ]
  },
  {
   "cell_type": "code",
   "execution_count": 50,
   "id": "37b23d6c",
   "metadata": {},
   "outputs": [
    {
     "name": "stdout",
     "output_type": "stream",
     "text": [
      "{0: 56864, 1: 98}\n"
     ]
    }
   ],
   "source": [
    "import numpy as np\n",
    "unique, counts = np.unique(y_test, return_counts=True)\n",
    "print(dict(zip(unique, counts)))"
   ]
  },
  {
   "cell_type": "markdown",
   "id": "b6f89332",
   "metadata": {},
   "source": [
    "Your dataset is highly imbalanced (98 fraud cases vs. 56,864 normal transactions), which explains why focal loss was overcompensating for the minority class and predicting almost everything as fraud."
   ]
  },
  {
   "cell_type": "code",
   "execution_count": null,
   "id": "353ab5b1",
   "metadata": {},
   "outputs": [],
   "source": []
  },
  {
   "cell_type": "code",
   "execution_count": null,
   "id": "f713f819",
   "metadata": {},
   "outputs": [],
   "source": []
  },
  {
   "cell_type": "code",
   "execution_count": null,
   "id": "a64c8ee8",
   "metadata": {},
   "outputs": [],
   "source": []
  },
  {
   "cell_type": "code",
   "execution_count": null,
   "id": "1a267086",
   "metadata": {},
   "outputs": [],
   "source": []
  },
  {
   "cell_type": "code",
   "execution_count": null,
   "id": "dd1ab73a",
   "metadata": {},
   "outputs": [],
   "source": [
    "import numpy as np\n",
    "import tensorflow as tf\n",
    "from tensorflow.keras.models import Sequential\n",
    "from tensorflow.keras.layers import Dense, Dropout\n",
    "from tensorflow.keras.optimizers import Adam\n",
    "from sklearn.metrics import fbeta_score, precision_recall_curve\n",
    "from sklearn.utils.class_weight import compute_class_weight\n",
    "\n",
    "# Define F2-score function\n",
    "def f2_score(y_true, y_pred):\n",
    "    return fbeta_score(y_true, y_pred, beta=2)\n",
    "\n",
    "# Function to create a simple neural network\n",
    "def create_model(hidden_units=32, dropout_rate=0.3, learning_rate=0.001):\n",
    "    model = Sequential([\n",
    "        Dense(hidden_units, activation='relu', input_shape=(X_train.shape[1],)),\n",
    "        Dropout(dropout_rate),\n",
    "        Dense(hidden_units, activation='relu'),\n",
    "        Dropout(dropout_rate),\n",
    "        Dense(1, activation='sigmoid')  # Binary classification\n",
    "    ])\n",
    "    \n",
    "    model.compile(optimizer=Adam(learning_rate), loss='binary_crossentropy', metrics=['accuracy'])\n",
    "    return model\n",
    "\n",
    "# Define hyperparameter variations\n",
    "configs = [\n",
    "    {'hidden_units': 32, 'dropout_rate': 0.2, 'learning_rate': 0.001},\n",
    "    {'hidden_units': 64, 'dropout_rate': 0.3, 'learning_rate': 0.0005},\n",
    "    {'hidden_units': 128, 'dropout_rate': 0.3, 'learning_rate': 0.0003},\n",
    "]\n",
    "\n",
    "best_model = None\n",
    "best_f2 = 0\n",
    "\n",
    "# Train and evaluate models\n",
    "for config in configs:\n",
    "    print(f\"Training model with {config}\")\n",
    "    \n",
    "    model = create_model(**config)\n",
    "    \n",
    "    # Compute class weights\n",
    "    class_weights = compute_class_weight('balanced', classes=[0, 1], y=y_train)\n",
    "    class_weight_dict = {0: class_weights[0], 1: class_weights[1]}\n",
    "    \n",
    "    model.fit(X_train, y_train, epochs=10, batch_size=32, class_weight=class_weight_dict, verbose=1)\n",
    "    \n",
    "    # Get predictions\n",
    "    y_pred_probs = model.predict(X_val)  # Validation set\n",
    "    y_pred_bin = (y_pred_probs > 0.5).astype(int)  # Default threshold = 0.5\n",
    "    \n",
    "    # Compute F2-score\n",
    "    f2 = f2_score(y_val, y_pred_bin)\n",
    "    print(f\"Model F2-score: {f2:.4f}\")\n",
    "    \n",
    "    # Save best model\n",
    "    if f2 > best_f2:\n",
    "        best_f2 = f2\n",
    "        best_model = model\n",
    "\n",
    "print(f\"\\nBest model F2-score: {best_f2:.4f}\")\n"
   ]
  }
 ],
 "metadata": {
  "kernelspec": {
   "display_name": "Python 3 (ipykernel)",
   "language": "python",
   "name": "python3"
  },
  "language_info": {
   "codemirror_mode": {
    "name": "ipython",
    "version": 3
   },
   "file_extension": ".py",
   "mimetype": "text/x-python",
   "name": "python",
   "nbconvert_exporter": "python",
   "pygments_lexer": "ipython3",
   "version": "3.10.12"
  }
 },
 "nbformat": 4,
 "nbformat_minor": 5
}
